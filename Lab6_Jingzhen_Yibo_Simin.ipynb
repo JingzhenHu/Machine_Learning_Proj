{
 "cells": [
  {
   "cell_type": "code",
   "execution_count": 2,
   "metadata": {},
   "outputs": [
    {
     "data": {
      "text/html": [
       "<link href='https://fonts.googleapis.com/css?family=Passion+One' rel='stylesheet' type='text/css'><style>div.attn { font-family: 'Helvetica Neue'; font-size: 30px; line-height: 40px; color: #FFFFFF; text-align: center; margin: 30px 0; border-width: 10px 0; border-style: solid; border-color: #5AAAAA; padding: 30px 0; background-color: #DDDDFF; }hr { border: 0; background-color: #ffffff; border-top: 1px solid black; }hr.major { border-top: 10px solid #5AAA5A; }hr.minor { border: none; background-color: #ffffff; border-top: 5px dotted #CC3333; }div.bubble { width: 65%; padding: 20px; background: #DDDDDD; border-radius: 15px; margin: 0 auto; font-style: italic; color: #f00; }em { color: #AAA; }div.c1{visibility:hidden;margin:0;height:0;}div.note{color:red;}</style>"
      ],
      "text/plain": [
       "<IPython.core.display.HTML object>"
      ]
     },
     "execution_count": 2,
     "metadata": {},
     "output_type": "execute_result"
    }
   ],
   "source": [
    "# Ebnable HTML/CSS \n",
    "from IPython.core.display import HTML\n",
    "HTML(\"<link href='https://fonts.googleapis.com/css?family=Passion+One' rel='stylesheet' type='text/css'><style>div.attn { font-family: 'Helvetica Neue'; font-size: 30px; line-height: 40px; color: #FFFFFF; text-align: center; margin: 30px 0; border-width: 10px 0; border-style: solid; border-color: #5AAAAA; padding: 30px 0; background-color: #DDDDFF; }hr { border: 0; background-color: #ffffff; border-top: 1px solid black; }hr.major { border-top: 10px solid #5AAA5A; }hr.minor { border: none; background-color: #ffffff; border-top: 5px dotted #CC3333; }div.bubble { width: 65%; padding: 20px; background: #DDDDDD; border-radius: 15px; margin: 0 auto; font-style: italic; color: #f00; }em { color: #AAA; }div.c1{visibility:hidden;margin:0;height:0;}div.note{color:red;}</style>\")"
   ]
  },
  {
   "cell_type": "markdown",
   "metadata": {},
   "source": [
    "## Lab Assignment Six: Wide and Deep Network\n",
    "\n",
    "________________________________________________________________________________________________________\n",
    "* Name1: Simin Wang\n",
    "* Name2: Yibo Tang\n",
    "* Name3: Jingzhen Hu"
   ]
  },
  {
   "cell_type": "markdown",
   "metadata": {},
   "source": [
    "## Contents\n",
    "* <a href=\"#PO\">1. Preparation</a>\n",
    " * 1.1 Business Understanding\n",
    " * 1.2 Data Understanding and Pre-processing\n",
    " * 1.3 Feature Grouping\n",
    " * 1.4 Metric Selection\n",
    " * 1.5 Data Splitting\n",
    " \n",
    " \n",
    "* <a href=\"#Modeling\">2. Modeling</a>\n",
    " * 2.1 Wide and Deep Network\n",
    " * 2.2 Comparison of Different Deep Network\n",
    " * 2.3 Comparison of Best Deep Network and MLP\n",
    "\n",
    "\n",
    "* <a href=\"#ExceptionalWork\">3. Exceptional Work</a>\n",
    " \n",
    " \n",
    "* <a href=\"#References\">References</a>\n",
    "<a id=\"Loading\"></a>"
   ]
  },
  {
   "cell_type": "markdown",
   "metadata": {},
   "source": [
    "<a id=\"PO\"></a>\n",
    "## 1. Preparation"
   ]
  },
  {
   "cell_type": "markdown",
   "metadata": {},
   "source": [
    "### 1.1 Business Understanding\n",
    "\n",
    "We decide to reuse the Wine Quality Dataset from lab1 that is downloaded from professor Cortez at University of Minho (retrieve at http://www3.dsi.uminho.pt/pcortez/wine/), which consists of 6,497 instances and 14 features (excluding case number). There are 3 categorical features and 11 numeric features. The 'quality' is the class variable. \n",
    "\n",
    "This dataset stores a set of Vinho Verde samples, a type of wine originated from the Minho (northwest) region of Portugal. The Vinho Verdes are light and fresh. The samples contain two types, white wine and red wine. The white Vinho Verde is very fresh, due to its natural acidity, with fruity and floral aromas that depend on the grape variety, around 8.5 to 11% alcohol. The red Vinho Verde wines are an intense red color, and in the mouth it is fresh and intense.\n",
    "\n",
    "Wine selling is always a great business around the world, and Portugal is a top ten wine exporting country, among which Vinho Verde is one of the best-selling products. Quality assessment is a key element within this context. Actually, the quality of Vinho Verde wines varies according to the different ratios of physicochemical properties, and is generally assessed by physicochemical and sensory tests, which rely mainly on human experts. Hence, in our dataset, quality has been divided into 7 levels (from lowest 3 to highest 9). \n",
    "\n",
    "Therefore, our primary goal is to provide quality prediction service for the wine companies, especially selling Vinho Verde wines, which should be more instant, cheaper and hopefully more accurate when comparing with manual efforts. Specifically, by logistic regression, we want to automatically and precisely classify products (wine) with 14 physicochemical properties into three general quality categories: Low, Medium, and High, since detailed separation from 3 to 9 might not be quite useful for targeting customers. Those three categories could easily guide company to conduct the strategy and narrow down the scope to three corresponding groups: the upper class, the ordinary people and the poor, thus pricing wines accordingly. \n",
    "\n",
    "How to map numeric quality level to three categories is our next concern. Slicely different separation from lab4, considering the populations in each group and class distributions in our dataset, high quality wines and low quality wines should constitute a small part so that 3-5 belongs to Low and 7-9 represents High. Most ordinary people could afford modest price, and level 6 is included in Medium, which is the biggest amount. Anyway, we could have further discussions about mapping problems with cooperated companies in the future.\n",
    "\n",
    "Finally, we have to determine how well our methodology is considered to be applicable. Since three categories are needed right now, it’s necessary to expect overall high f1_score, at least 70% and attempt to reach over 80%. If less than 70%, company would suffer a great risk of increasing budgets due to the misclassification, such as returning products from customers who should have a better quality, thus increasing the probability of losing customers and reputation. "
   ]
  },
  {
   "cell_type": "markdown",
   "metadata": {},
   "source": [
    "### 1.2 Data Understanding and Pre-processing"
   ]
  },
  {
   "cell_type": "code",
   "execution_count": 3,
   "metadata": {},
   "outputs": [
    {
     "data": {
      "text/html": [
       "<div>\n",
       "<style>\n",
       "    .dataframe thead tr:only-child th {\n",
       "        text-align: right;\n",
       "    }\n",
       "\n",
       "    .dataframe thead th {\n",
       "        text-align: left;\n",
       "    }\n",
       "\n",
       "    .dataframe tbody tr th {\n",
       "        vertical-align: top;\n",
       "    }\n",
       "</style>\n",
       "<table border=\"1\" class=\"dataframe\">\n",
       "  <thead>\n",
       "    <tr style=\"text-align: right;\">\n",
       "      <th></th>\n",
       "      <th>fixed_acidity</th>\n",
       "      <th>volatile_acidity</th>\n",
       "      <th>citric_acid</th>\n",
       "      <th>residual_sugar</th>\n",
       "      <th>chlorides</th>\n",
       "      <th>free_sulfur_dioxide</th>\n",
       "      <th>total_sulfur_dioxide</th>\n",
       "      <th>density</th>\n",
       "      <th>pH</th>\n",
       "      <th>sulphates</th>\n",
       "      <th>alcohol</th>\n",
       "      <th>wine_type</th>\n",
       "      <th>cont_citric</th>\n",
       "      <th>density_water</th>\n",
       "      <th>quality</th>\n",
       "    </tr>\n",
       "  </thead>\n",
       "  <tbody>\n",
       "    <tr>\n",
       "      <th>0</th>\n",
       "      <td>5.6</td>\n",
       "      <td>0.25</td>\n",
       "      <td>0.19</td>\n",
       "      <td>2.4</td>\n",
       "      <td>0.049</td>\n",
       "      <td>42.0</td>\n",
       "      <td>166.0</td>\n",
       "      <td>0.99200</td>\n",
       "      <td>3.25</td>\n",
       "      <td>0.43</td>\n",
       "      <td>10.400000</td>\n",
       "      <td>white</td>\n",
       "      <td>1</td>\n",
       "      <td>0</td>\n",
       "      <td>6</td>\n",
       "    </tr>\n",
       "    <tr>\n",
       "      <th>1</th>\n",
       "      <td>7.2</td>\n",
       "      <td>0.24</td>\n",
       "      <td>0.30</td>\n",
       "      <td>1.2</td>\n",
       "      <td>0.037</td>\n",
       "      <td>11.0</td>\n",
       "      <td>95.0</td>\n",
       "      <td>0.98914</td>\n",
       "      <td>2.96</td>\n",
       "      <td>0.36</td>\n",
       "      <td>12.500000</td>\n",
       "      <td>white</td>\n",
       "      <td>1</td>\n",
       "      <td>0</td>\n",
       "      <td>6</td>\n",
       "    </tr>\n",
       "    <tr>\n",
       "      <th>2</th>\n",
       "      <td>6.0</td>\n",
       "      <td>0.31</td>\n",
       "      <td>0.38</td>\n",
       "      <td>4.8</td>\n",
       "      <td>0.040</td>\n",
       "      <td>41.0</td>\n",
       "      <td>101.0</td>\n",
       "      <td>0.98968</td>\n",
       "      <td>3.24</td>\n",
       "      <td>0.56</td>\n",
       "      <td>13.100000</td>\n",
       "      <td>white</td>\n",
       "      <td>1</td>\n",
       "      <td>0</td>\n",
       "      <td>6</td>\n",
       "    </tr>\n",
       "    <tr>\n",
       "      <th>3</th>\n",
       "      <td>6.0</td>\n",
       "      <td>0.29</td>\n",
       "      <td>0.41</td>\n",
       "      <td>10.8</td>\n",
       "      <td>0.048</td>\n",
       "      <td>55.0</td>\n",
       "      <td>149.0</td>\n",
       "      <td>0.99370</td>\n",
       "      <td>3.09</td>\n",
       "      <td>0.59</td>\n",
       "      <td>10.966667</td>\n",
       "      <td>white</td>\n",
       "      <td>1</td>\n",
       "      <td>0</td>\n",
       "      <td>7</td>\n",
       "    </tr>\n",
       "    <tr>\n",
       "      <th>4</th>\n",
       "      <td>6.2</td>\n",
       "      <td>0.15</td>\n",
       "      <td>0.49</td>\n",
       "      <td>0.9</td>\n",
       "      <td>0.033</td>\n",
       "      <td>17.0</td>\n",
       "      <td>51.0</td>\n",
       "      <td>0.99320</td>\n",
       "      <td>3.30</td>\n",
       "      <td>0.70</td>\n",
       "      <td>9.400000</td>\n",
       "      <td>white</td>\n",
       "      <td>1</td>\n",
       "      <td>0</td>\n",
       "      <td>6</td>\n",
       "    </tr>\n",
       "  </tbody>\n",
       "</table>\n",
       "</div>"
      ],
      "text/plain": [
       "   fixed_acidity  volatile_acidity  citric_acid  residual_sugar  chlorides  \\\n",
       "0            5.6              0.25         0.19             2.4      0.049   \n",
       "1            7.2              0.24         0.30             1.2      0.037   \n",
       "2            6.0              0.31         0.38             4.8      0.040   \n",
       "3            6.0              0.29         0.41            10.8      0.048   \n",
       "4            6.2              0.15         0.49             0.9      0.033   \n",
       "\n",
       "   free_sulfur_dioxide  total_sulfur_dioxide  density    pH  sulphates  \\\n",
       "0                 42.0                 166.0  0.99200  3.25       0.43   \n",
       "1                 11.0                  95.0  0.98914  2.96       0.36   \n",
       "2                 41.0                 101.0  0.98968  3.24       0.56   \n",
       "3                 55.0                 149.0  0.99370  3.09       0.59   \n",
       "4                 17.0                  51.0  0.99320  3.30       0.70   \n",
       "\n",
       "     alcohol wine_type  cont_citric  density_water  quality  \n",
       "0  10.400000     white            1              0        6  \n",
       "1  12.500000     white            1              0        6  \n",
       "2  13.100000     white            1              0        6  \n",
       "3  10.966667     white            1              0        7  \n",
       "4   9.400000     white            1              0        6  "
      ]
     },
     "execution_count": 3,
     "metadata": {},
     "output_type": "execute_result"
    }
   ],
   "source": [
    "# input the wine data set\n",
    "import pandas as pd\n",
    "import numpy as np\n",
    "import warnings\n",
    "warnings.filterwarnings(\"ignore\")\n",
    "\n",
    "df = pd.read_csv('wine.csv')\n",
    "# rename the feature, which is more meaningful: whether contains citric or not\n",
    "df = df.rename(columns = {'citric': 'cont_citric'})\n",
    "# display the top 5 instances\n",
    "df.head()"
   ]
  },
  {
   "cell_type": "code",
   "execution_count": 4,
   "metadata": {},
   "outputs": [
    {
     "data": {
      "text/html": [
       "<div>\n",
       "<style>\n",
       "    .dataframe thead tr:only-child th {\n",
       "        text-align: right;\n",
       "    }\n",
       "\n",
       "    .dataframe thead th {\n",
       "        text-align: left;\n",
       "    }\n",
       "\n",
       "    .dataframe tbody tr th {\n",
       "        vertical-align: top;\n",
       "    }\n",
       "</style>\n",
       "<table border=\"1\" class=\"dataframe\">\n",
       "  <thead>\n",
       "    <tr style=\"text-align: right;\">\n",
       "      <th></th>\n",
       "      <th>fixed_acidity</th>\n",
       "      <th>volatile_acidity</th>\n",
       "      <th>citric_acid</th>\n",
       "      <th>residual_sugar</th>\n",
       "      <th>chlorides</th>\n",
       "      <th>free_sulfur_dioxide</th>\n",
       "      <th>total_sulfur_dioxide</th>\n",
       "      <th>density</th>\n",
       "      <th>pH</th>\n",
       "      <th>sulphates</th>\n",
       "      <th>alcohol</th>\n",
       "      <th>wine_type</th>\n",
       "      <th>cont_citric</th>\n",
       "      <th>density_water</th>\n",
       "      <th>quality</th>\n",
       "    </tr>\n",
       "  </thead>\n",
       "  <tbody>\n",
       "    <tr>\n",
       "      <th>0</th>\n",
       "      <td>5.6</td>\n",
       "      <td>0.25</td>\n",
       "      <td>0.19</td>\n",
       "      <td>2.4</td>\n",
       "      <td>0.049</td>\n",
       "      <td>42.0</td>\n",
       "      <td>166.0</td>\n",
       "      <td>0.99200</td>\n",
       "      <td>3.25</td>\n",
       "      <td>0.43</td>\n",
       "      <td>10.400000</td>\n",
       "      <td>white</td>\n",
       "      <td>1</td>\n",
       "      <td>0</td>\n",
       "      <td>Medium</td>\n",
       "    </tr>\n",
       "    <tr>\n",
       "      <th>1</th>\n",
       "      <td>7.2</td>\n",
       "      <td>0.24</td>\n",
       "      <td>0.30</td>\n",
       "      <td>1.2</td>\n",
       "      <td>0.037</td>\n",
       "      <td>11.0</td>\n",
       "      <td>95.0</td>\n",
       "      <td>0.98914</td>\n",
       "      <td>2.96</td>\n",
       "      <td>0.36</td>\n",
       "      <td>12.500000</td>\n",
       "      <td>white</td>\n",
       "      <td>1</td>\n",
       "      <td>0</td>\n",
       "      <td>Medium</td>\n",
       "    </tr>\n",
       "    <tr>\n",
       "      <th>2</th>\n",
       "      <td>6.0</td>\n",
       "      <td>0.31</td>\n",
       "      <td>0.38</td>\n",
       "      <td>4.8</td>\n",
       "      <td>0.040</td>\n",
       "      <td>41.0</td>\n",
       "      <td>101.0</td>\n",
       "      <td>0.98968</td>\n",
       "      <td>3.24</td>\n",
       "      <td>0.56</td>\n",
       "      <td>13.100000</td>\n",
       "      <td>white</td>\n",
       "      <td>1</td>\n",
       "      <td>0</td>\n",
       "      <td>Medium</td>\n",
       "    </tr>\n",
       "    <tr>\n",
       "      <th>3</th>\n",
       "      <td>6.0</td>\n",
       "      <td>0.29</td>\n",
       "      <td>0.41</td>\n",
       "      <td>10.8</td>\n",
       "      <td>0.048</td>\n",
       "      <td>55.0</td>\n",
       "      <td>149.0</td>\n",
       "      <td>0.99370</td>\n",
       "      <td>3.09</td>\n",
       "      <td>0.59</td>\n",
       "      <td>10.966667</td>\n",
       "      <td>white</td>\n",
       "      <td>1</td>\n",
       "      <td>0</td>\n",
       "      <td>High</td>\n",
       "    </tr>\n",
       "    <tr>\n",
       "      <th>4</th>\n",
       "      <td>6.2</td>\n",
       "      <td>0.15</td>\n",
       "      <td>0.49</td>\n",
       "      <td>0.9</td>\n",
       "      <td>0.033</td>\n",
       "      <td>17.0</td>\n",
       "      <td>51.0</td>\n",
       "      <td>0.99320</td>\n",
       "      <td>3.30</td>\n",
       "      <td>0.70</td>\n",
       "      <td>9.400000</td>\n",
       "      <td>white</td>\n",
       "      <td>1</td>\n",
       "      <td>0</td>\n",
       "      <td>Medium</td>\n",
       "    </tr>\n",
       "  </tbody>\n",
       "</table>\n",
       "</div>"
      ],
      "text/plain": [
       "   fixed_acidity  volatile_acidity  citric_acid  residual_sugar  chlorides  \\\n",
       "0            5.6              0.25         0.19             2.4      0.049   \n",
       "1            7.2              0.24         0.30             1.2      0.037   \n",
       "2            6.0              0.31         0.38             4.8      0.040   \n",
       "3            6.0              0.29         0.41            10.8      0.048   \n",
       "4            6.2              0.15         0.49             0.9      0.033   \n",
       "\n",
       "   free_sulfur_dioxide  total_sulfur_dioxide  density    pH  sulphates  \\\n",
       "0                 42.0                 166.0  0.99200  3.25       0.43   \n",
       "1                 11.0                  95.0  0.98914  2.96       0.36   \n",
       "2                 41.0                 101.0  0.98968  3.24       0.56   \n",
       "3                 55.0                 149.0  0.99370  3.09       0.59   \n",
       "4                 17.0                  51.0  0.99320  3.30       0.70   \n",
       "\n",
       "     alcohol wine_type  cont_citric  density_water quality  \n",
       "0  10.400000     white            1              0  Medium  \n",
       "1  12.500000     white            1              0  Medium  \n",
       "2  13.100000     white            1              0  Medium  \n",
       "3  10.966667     white            1              0    High  \n",
       "4   9.400000     white            1              0  Medium  "
      ]
     },
     "execution_count": 4,
     "metadata": {},
     "output_type": "execute_result"
    }
   ],
   "source": [
    "#Combine quality level 7-9 as 'High' quality\n",
    "df.quality.replace(to_replace=[7,8,9],\n",
    "               value= 'High',\n",
    "               inplace=True)\n",
    "\n",
    "#Combine quality level 6 as 'Medium' quality\n",
    "df.quality.replace(to_replace=6,\n",
    "               value= 'Medium',\n",
    "               inplace=True)\n",
    "\n",
    "#Combine quality level 3-5 as 'Low' quality\n",
    "df.quality.replace(to_replace=[3,4,5],\n",
    "               value= 'Low',\n",
    "               inplace=True)\n",
    "\n",
    "df.quality = df.quality.astype('str')\n",
    "df.head()"
   ]
  },
  {
   "cell_type": "markdown",
   "metadata": {},
   "source": [
    "According to the Wine Folley, an educational wine blog that publishes articles, videos, and infographics to help simplify wine (http://winefolly.com/tutorial/the-lightest-to-the-strongest-wine/), we change the 'alcohol' from numeric feature to categorical feature by classifying our wine products into 4 categories: From the Lightest to the Strongest\n",
    "- Low Alcohol Wines: Below 10%\n",
    "- Medium-Low Alcohol Wines: 10%–11.5%\n",
    "- Medium Alcohol Wines: 11.5%–13.5%\n",
    "- Medium-High Alcohol Wines: 13.5%–15%"
   ]
  },
  {
   "cell_type": "code",
   "execution_count": 5,
   "metadata": {},
   "outputs": [
    {
     "data": {
      "text/html": [
       "<div>\n",
       "<style>\n",
       "    .dataframe thead tr:only-child th {\n",
       "        text-align: right;\n",
       "    }\n",
       "\n",
       "    .dataframe thead th {\n",
       "        text-align: left;\n",
       "    }\n",
       "\n",
       "    .dataframe tbody tr th {\n",
       "        vertical-align: top;\n",
       "    }\n",
       "</style>\n",
       "<table border=\"1\" class=\"dataframe\">\n",
       "  <thead>\n",
       "    <tr style=\"text-align: right;\">\n",
       "      <th></th>\n",
       "      <th>fixed_acidity</th>\n",
       "      <th>volatile_acidity</th>\n",
       "      <th>citric_acid</th>\n",
       "      <th>residual_sugar</th>\n",
       "      <th>chlorides</th>\n",
       "      <th>free_sulfur_dioxide</th>\n",
       "      <th>total_sulfur_dioxide</th>\n",
       "      <th>density</th>\n",
       "      <th>pH</th>\n",
       "      <th>sulphates</th>\n",
       "      <th>alcohol</th>\n",
       "      <th>wine_type</th>\n",
       "      <th>cont_citric</th>\n",
       "      <th>density_water</th>\n",
       "      <th>quality</th>\n",
       "    </tr>\n",
       "  </thead>\n",
       "  <tbody>\n",
       "    <tr>\n",
       "      <th>0</th>\n",
       "      <td>5.6</td>\n",
       "      <td>0.25</td>\n",
       "      <td>0.19</td>\n",
       "      <td>2.4</td>\n",
       "      <td>0.049</td>\n",
       "      <td>42.0</td>\n",
       "      <td>166.0</td>\n",
       "      <td>0.99200</td>\n",
       "      <td>3.25</td>\n",
       "      <td>0.43</td>\n",
       "      <td>Medium-Low</td>\n",
       "      <td>white</td>\n",
       "      <td>1</td>\n",
       "      <td>0</td>\n",
       "      <td>Medium</td>\n",
       "    </tr>\n",
       "    <tr>\n",
       "      <th>1</th>\n",
       "      <td>7.2</td>\n",
       "      <td>0.24</td>\n",
       "      <td>0.30</td>\n",
       "      <td>1.2</td>\n",
       "      <td>0.037</td>\n",
       "      <td>11.0</td>\n",
       "      <td>95.0</td>\n",
       "      <td>0.98914</td>\n",
       "      <td>2.96</td>\n",
       "      <td>0.36</td>\n",
       "      <td>Medium</td>\n",
       "      <td>white</td>\n",
       "      <td>1</td>\n",
       "      <td>0</td>\n",
       "      <td>Medium</td>\n",
       "    </tr>\n",
       "    <tr>\n",
       "      <th>2</th>\n",
       "      <td>6.0</td>\n",
       "      <td>0.31</td>\n",
       "      <td>0.38</td>\n",
       "      <td>4.8</td>\n",
       "      <td>0.040</td>\n",
       "      <td>41.0</td>\n",
       "      <td>101.0</td>\n",
       "      <td>0.98968</td>\n",
       "      <td>3.24</td>\n",
       "      <td>0.56</td>\n",
       "      <td>Medium</td>\n",
       "      <td>white</td>\n",
       "      <td>1</td>\n",
       "      <td>0</td>\n",
       "      <td>Medium</td>\n",
       "    </tr>\n",
       "    <tr>\n",
       "      <th>3</th>\n",
       "      <td>6.0</td>\n",
       "      <td>0.29</td>\n",
       "      <td>0.41</td>\n",
       "      <td>10.8</td>\n",
       "      <td>0.048</td>\n",
       "      <td>55.0</td>\n",
       "      <td>149.0</td>\n",
       "      <td>0.99370</td>\n",
       "      <td>3.09</td>\n",
       "      <td>0.59</td>\n",
       "      <td>Medium-Low</td>\n",
       "      <td>white</td>\n",
       "      <td>1</td>\n",
       "      <td>0</td>\n",
       "      <td>High</td>\n",
       "    </tr>\n",
       "    <tr>\n",
       "      <th>4</th>\n",
       "      <td>6.2</td>\n",
       "      <td>0.15</td>\n",
       "      <td>0.49</td>\n",
       "      <td>0.9</td>\n",
       "      <td>0.033</td>\n",
       "      <td>17.0</td>\n",
       "      <td>51.0</td>\n",
       "      <td>0.99320</td>\n",
       "      <td>3.30</td>\n",
       "      <td>0.70</td>\n",
       "      <td>Low</td>\n",
       "      <td>white</td>\n",
       "      <td>1</td>\n",
       "      <td>0</td>\n",
       "      <td>Medium</td>\n",
       "    </tr>\n",
       "  </tbody>\n",
       "</table>\n",
       "</div>"
      ],
      "text/plain": [
       "   fixed_acidity  volatile_acidity  citric_acid  residual_sugar  chlorides  \\\n",
       "0            5.6              0.25         0.19             2.4      0.049   \n",
       "1            7.2              0.24         0.30             1.2      0.037   \n",
       "2            6.0              0.31         0.38             4.8      0.040   \n",
       "3            6.0              0.29         0.41            10.8      0.048   \n",
       "4            6.2              0.15         0.49             0.9      0.033   \n",
       "\n",
       "   free_sulfur_dioxide  total_sulfur_dioxide  density    pH  sulphates  \\\n",
       "0                 42.0                 166.0  0.99200  3.25       0.43   \n",
       "1                 11.0                  95.0  0.98914  2.96       0.36   \n",
       "2                 41.0                 101.0  0.98968  3.24       0.56   \n",
       "3                 55.0                 149.0  0.99370  3.09       0.59   \n",
       "4                 17.0                  51.0  0.99320  3.30       0.70   \n",
       "\n",
       "      alcohol wine_type  cont_citric  density_water quality  \n",
       "0  Medium-Low     white            1              0  Medium  \n",
       "1      Medium     white            1              0  Medium  \n",
       "2      Medium     white            1              0  Medium  \n",
       "3  Medium-Low     white            1              0    High  \n",
       "4         Low     white            1              0  Medium  "
      ]
     },
     "execution_count": 5,
     "metadata": {},
     "output_type": "execute_result"
    }
   ],
   "source": [
    "#Low Alcohol Wines: Below 10%, label as 0\n",
    "df.alcohol.replace(to_replace=df[df.alcohol.values < 10].alcohol.values,\n",
    "               value= 0,\n",
    "               inplace=True)\n",
    "\n",
    "#Medium-Low Alcohol Wines: 10%–11.5%, label as 1\n",
    "df.alcohol.replace(to_replace=df[(df.alcohol.values >= 10) & (df.alcohol.values < 11.5)].alcohol.values,\n",
    "               value= 1,\n",
    "               inplace=True)\n",
    "\n",
    "#Medium Alcohol Wines: 11.5%–13.5%, label as 2\n",
    "df.alcohol.replace(to_replace=df[(df.alcohol.values >= 11.5) & (df.alcohol.values < 13.5)].alcohol.values,\n",
    "               value= 2,\n",
    "               inplace=True)\n",
    "\n",
    "#Medium-High Alcohol Wines: 13.5%–15%, label as 3\n",
    "df.alcohol.replace(to_replace=df[(df.alcohol.values >= 13.5) & (df.alcohol.values < 15)].alcohol.values,\n",
    "               value= 3,\n",
    "               inplace=True)\n",
    "\n",
    "df.alcohol = df.alcohol.astype('int')\n",
    "\n",
    "df.alcohol.replace(to_replace = 0,\n",
    "               value= 'Low',\n",
    "               inplace=True)\n",
    "\n",
    "df.alcohol.replace(to_replace = 1,\n",
    "               value= 'Medium-Low',\n",
    "               inplace=True)\n",
    "\n",
    "df.alcohol.replace(to_replace = 2,\n",
    "               value= 'Medium',\n",
    "               inplace=True)\n",
    "\n",
    "df.alcohol.replace(to_replace = 3,\n",
    "               value= 'Medium-High',\n",
    "               inplace=True)\n",
    "\n",
    "df.alcohol = df.alcohol.astype('str')\n",
    "df.head()"
   ]
  },
  {
   "cell_type": "code",
   "execution_count": 6,
   "metadata": {
    "scrolled": true
   },
   "outputs": [
    {
     "data": {
      "text/html": [
       "<div>\n",
       "<style>\n",
       "    .dataframe thead tr:only-child th {\n",
       "        text-align: right;\n",
       "    }\n",
       "\n",
       "    .dataframe thead th {\n",
       "        text-align: left;\n",
       "    }\n",
       "\n",
       "    .dataframe tbody tr th {\n",
       "        vertical-align: top;\n",
       "    }\n",
       "</style>\n",
       "<table border=\"1\" class=\"dataframe\">\n",
       "  <thead>\n",
       "    <tr style=\"text-align: right;\">\n",
       "      <th></th>\n",
       "      <th>fixed_acidity</th>\n",
       "      <th>volatile_acidity</th>\n",
       "      <th>citric_acid</th>\n",
       "      <th>residual_sugar</th>\n",
       "      <th>chlorides</th>\n",
       "      <th>free_sulfur_dioxide</th>\n",
       "      <th>total_sulfur_dioxide</th>\n",
       "      <th>density</th>\n",
       "      <th>pH</th>\n",
       "      <th>sulphates</th>\n",
       "      <th>alcohol</th>\n",
       "      <th>wine_type</th>\n",
       "      <th>cont_citric</th>\n",
       "      <th>density_water</th>\n",
       "      <th>quality</th>\n",
       "    </tr>\n",
       "  </thead>\n",
       "  <tbody>\n",
       "    <tr>\n",
       "      <th>0</th>\n",
       "      <td>5.6</td>\n",
       "      <td>0.25</td>\n",
       "      <td>0.19</td>\n",
       "      <td>2.4</td>\n",
       "      <td>0.049</td>\n",
       "      <td>42.0</td>\n",
       "      <td>166.0</td>\n",
       "      <td>0.99200</td>\n",
       "      <td>3.25</td>\n",
       "      <td>0.43</td>\n",
       "      <td>Medium-Low</td>\n",
       "      <td>white</td>\n",
       "      <td>Y</td>\n",
       "      <td>N</td>\n",
       "      <td>Medium</td>\n",
       "    </tr>\n",
       "    <tr>\n",
       "      <th>1</th>\n",
       "      <td>7.2</td>\n",
       "      <td>0.24</td>\n",
       "      <td>0.30</td>\n",
       "      <td>1.2</td>\n",
       "      <td>0.037</td>\n",
       "      <td>11.0</td>\n",
       "      <td>95.0</td>\n",
       "      <td>0.98914</td>\n",
       "      <td>2.96</td>\n",
       "      <td>0.36</td>\n",
       "      <td>Medium</td>\n",
       "      <td>white</td>\n",
       "      <td>Y</td>\n",
       "      <td>N</td>\n",
       "      <td>Medium</td>\n",
       "    </tr>\n",
       "    <tr>\n",
       "      <th>2</th>\n",
       "      <td>6.0</td>\n",
       "      <td>0.31</td>\n",
       "      <td>0.38</td>\n",
       "      <td>4.8</td>\n",
       "      <td>0.040</td>\n",
       "      <td>41.0</td>\n",
       "      <td>101.0</td>\n",
       "      <td>0.98968</td>\n",
       "      <td>3.24</td>\n",
       "      <td>0.56</td>\n",
       "      <td>Medium</td>\n",
       "      <td>white</td>\n",
       "      <td>Y</td>\n",
       "      <td>N</td>\n",
       "      <td>Medium</td>\n",
       "    </tr>\n",
       "    <tr>\n",
       "      <th>3</th>\n",
       "      <td>6.0</td>\n",
       "      <td>0.29</td>\n",
       "      <td>0.41</td>\n",
       "      <td>10.8</td>\n",
       "      <td>0.048</td>\n",
       "      <td>55.0</td>\n",
       "      <td>149.0</td>\n",
       "      <td>0.99370</td>\n",
       "      <td>3.09</td>\n",
       "      <td>0.59</td>\n",
       "      <td>Medium-Low</td>\n",
       "      <td>white</td>\n",
       "      <td>Y</td>\n",
       "      <td>N</td>\n",
       "      <td>High</td>\n",
       "    </tr>\n",
       "    <tr>\n",
       "      <th>4</th>\n",
       "      <td>6.2</td>\n",
       "      <td>0.15</td>\n",
       "      <td>0.49</td>\n",
       "      <td>0.9</td>\n",
       "      <td>0.033</td>\n",
       "      <td>17.0</td>\n",
       "      <td>51.0</td>\n",
       "      <td>0.99320</td>\n",
       "      <td>3.30</td>\n",
       "      <td>0.70</td>\n",
       "      <td>Low</td>\n",
       "      <td>white</td>\n",
       "      <td>Y</td>\n",
       "      <td>N</td>\n",
       "      <td>Medium</td>\n",
       "    </tr>\n",
       "  </tbody>\n",
       "</table>\n",
       "</div>"
      ],
      "text/plain": [
       "   fixed_acidity  volatile_acidity  citric_acid  residual_sugar  chlorides  \\\n",
       "0            5.6              0.25         0.19             2.4      0.049   \n",
       "1            7.2              0.24         0.30             1.2      0.037   \n",
       "2            6.0              0.31         0.38             4.8      0.040   \n",
       "3            6.0              0.29         0.41            10.8      0.048   \n",
       "4            6.2              0.15         0.49             0.9      0.033   \n",
       "\n",
       "   free_sulfur_dioxide  total_sulfur_dioxide  density    pH  sulphates  \\\n",
       "0                 42.0                 166.0  0.99200  3.25       0.43   \n",
       "1                 11.0                  95.0  0.98914  2.96       0.36   \n",
       "2                 41.0                 101.0  0.98968  3.24       0.56   \n",
       "3                 55.0                 149.0  0.99370  3.09       0.59   \n",
       "4                 17.0                  51.0  0.99320  3.30       0.70   \n",
       "\n",
       "      alcohol wine_type cont_citric density_water quality  \n",
       "0  Medium-Low     white           Y             N  Medium  \n",
       "1      Medium     white           Y             N  Medium  \n",
       "2      Medium     white           Y             N  Medium  \n",
       "3  Medium-Low     white           Y             N    High  \n",
       "4         Low     white           Y             N  Medium  "
      ]
     },
     "execution_count": 6,
     "metadata": {},
     "output_type": "execute_result"
    }
   ],
   "source": [
    "df.cont_citric.replace(to_replace = 1,\n",
    "               value= 'Y',\n",
    "               inplace=True)\n",
    "\n",
    "df.cont_citric.replace(to_replace = 0,\n",
    "               value= 'N',\n",
    "               inplace=True)\n",
    "\n",
    "df.density_water.replace(to_replace = 1,\n",
    "               value= 'Y',\n",
    "               inplace=True)\n",
    "\n",
    "df.density_water.replace(to_replace = 0,\n",
    "               value= 'N',\n",
    "               inplace=True)\n",
    "\n",
    "df.cont_citric = df.cont_citric.astype('str')\n",
    "df.density_water = df.density_water.astype('str')\n",
    "\n",
    "df.head()"
   ]
  },
  {
   "cell_type": "markdown",
   "metadata": {},
   "source": [
    "The data is organized as follows: \n",
    "\n",
    "|Variable | description|\n",
    "|----|--------|\n",
    "|fixed_acidity:    | continuous, 3.80 - 15.90|\n",
    "|volatile_acidity: | continuous, 0.08 - 1.58|\n",
    "|citric_acid:      | continuous, 0.00 - 1.66|\n",
    "|residual_sugar:   | continuous, 0.60 - 65.80|\n",
    "|chlorides:        | continuous, 0.09 - 0.61|\n",
    "|free_sulfur_dioxide:  | continuous, 1.00 - 289.00|\n",
    "|total_sulfur_dioxide: | continuous, 6.00 - 440.00|\n",
    "|density:          | continuous, 0.99 - 1.04|\n",
    "|pH:               | continuous, 2.72 - 4.01|\n",
    "|sulphates:        | continuous, 0.22 - 2.00|\n",
    "|alcohol:          | Low, Medium-Low, Medium, Medium-High.|\n",
    "|wine_type:        | White, Red.|\n",
    "|cont_citric:      | Y: contain critic, N: not contain critic.|\n",
    "|density_water:    | Y: density > water, N: density < water.|\n"
   ]
  },
  {
   "cell_type": "markdown",
   "metadata": {},
   "source": [
    "### 1.3 Feature Grouping"
   ]
  },
  {
   "cell_type": "markdown",
   "metadata": {},
   "source": [
    "Totally we have 4 categorical features, 'alcohol','wine_type','cont_citric','density_water'. In terms of cross features, wine_type is definitely our top choice since relations between red or white wine and other categorical features could have a great impact on quality prediction. Different wines have varying levels of alcohol content, so we first want to combine the wine_type with alcohol, thus exploring whether the specific wine_type with the specific level of alcohol content could improve the prediction result. To further improve the model, we'd attempt to combine the wine_type with other two categorical features as well, to see if various wine_types with certain level of density and citric acid have a great influence or not."
   ]
  },
  {
   "cell_type": "code",
   "execution_count": 7,
   "metadata": {
    "collapsed": true
   },
   "outputs": [],
   "source": [
    "categorical_headers = ['alcohol','wine_type','cont_citric','density_water']\n",
    "\n",
    "numeric_headers = [\"fixed_acidity\", \"volatile_acidity\",\"citric_acid\",\n",
    "                           \"residual_sugar\",\"chlorides\",\"free_sulfur_dioxide\",\n",
    "                           \"total_sulfur_dioxide\",\"density\",\"pH\",\"sulphates\"]\n",
    "\n",
    "cross_columns = [['wine_type','alcohol'], ['wine_type','cont_citric'], \n",
    "                     ['wine_type', 'density_water']]"
   ]
  },
  {
   "cell_type": "markdown",
   "metadata": {},
   "source": [
    "### 1.4 Metric Selection"
   ]
  },
  {
   "cell_type": "code",
   "execution_count": 8,
   "metadata": {},
   "outputs": [
    {
     "data": {
      "text/plain": [
       "<matplotlib.axes._subplots.AxesSubplot at 0x118fea438>"
      ]
     },
     "execution_count": 8,
     "metadata": {},
     "output_type": "execute_result"
    },
    {
     "data": {
      "image/png": "[encoded data removed]",
      "text/plain": [
       "<matplotlib.figure.Figure at 0x118f4fa58>"
      ]
     },
     "metadata": {},
     "output_type": "display_data"
    }
   ],
   "source": [
    "from matplotlib import pyplot as plt\n",
    "%matplotlib inline\n",
    "\n",
    "df.groupby(['quality']).quality.count().plot(kind = 'bar')"
   ]
  },
  {
   "cell_type": "markdown",
   "metadata": {},
   "source": [
    "Since the number of different type of flaut are extremely imbalanced (which show in the histogram plot above), we should not use the normal accuracy as evaluation metric (the cost of misclassification for the small sized target class will be overlooked). F1 score considers both the precision and recall. As the higher precision, the lower false positive. As the higher the recall, the lower the false negative. Then, to minimize the both the false postive and false negative, we need a higher F1 score which is built to treat the precison and recall equally in the following equation.\n",
    "$$F_1 = \\frac{2rp}{r+p}$$\n",
    "Thus, F1 score is a better choice for the dataset than the accuracy. \n",
    "Inside the F1 score measurement, there are two different ways (for nonbinary classification case) to deal among k classes - micro and macro options. As to Micro option, it sums up the true positive and flase positive individually to calculate the precison,\n",
    "$$P_{micro} = \\frac{\\sum_{i=1}^{i=k}{TP_i}}{\\sum_{i=1}^{i=k}{TP_i} + \\sum_{i=1}^{i=k}{FP_i}}.$$\n",
    "Similarly to compute the recall individually and combine the precison and recall computed to obtain the final F1 score.\n",
    "As to Macro method, it takes the average of the F1 score of the system on different type of faults.\n",
    "$$X_{macro} = \\frac{\\sum_{i=1}^{i=k}{X_i}}{k}$$\n",
    "The macro option weights each $\\bf{class}$ equally, is suitbale to used when people want to know how the system performs overall the whole datset. \n",
    "The micro option, which weights each $\\bf{instance}$ equally, is good at the extremely inbalanced class sizes. Thus, for our dataset, we will choose the F1 score with micro option.\n",
    "\n",
    "As illustrated from the above figure, our wine dataset doesn't suffer greatly by the class imbalance problems. In fact, except for quality 2, other two classes contain around 2500 samples. Still, quality 1 has almost twice the total number of samples than quality 2. Therefore, the training set and test set has the risk of randomly choosing more samples from quality 0 or 1, thus leading to the fake result of high accuracy if predicting more samples from dominant categories. That's why accuracy is not an appropriate metric to evaluate our result. Precision-Recall is a useful measure of success of prediction when the classes are imbalanced.\n",
    "\n",
    "Besides, these three classes can't assume equally important due to the varied market price and potential customers, so only true negatives and true positives are not enough to evaluate our finalized model, thus eliminating the choice of accuracy. Instead, when our model fails to classify all the low quality wines to the right category, which means that some of them might be misclassified to medium or high quality, it could bring severe impacts on the customer satisfaction if they find out that they bought fake high_quality wines. On the other hand, the high quality wines misclassified to the lower quality could suffer a great loss of money. Consequently, false positives measure is indispensable to our evaluation metrics.\n",
    "\n",
    "In general, f1 measure that takes both precision and recall into account should be our best evaluation metric."
   ]
  },
  {
   "cell_type": "code",
   "execution_count": 9,
   "metadata": {},
   "outputs": [
    {
     "name": "stderr",
     "output_type": "stream",
     "text": [
      "Using TensorFlow backend.\n"
     ]
    }
   ],
   "source": [
    "from keras import backend as K\n",
    "def f1_score(y_true, y_pred):\n",
    "    \n",
    "    # Count positive samples.\n",
    "    y_true_clipped = K.cast(x=K.clip(y_true, 0, 1)>0.5,dtype='float32')\n",
    "    y_pred_clipped = K.cast(x=K.clip(y_pred, 0, 1)>0.5,dtype='float32')\n",
    "    a = K.sum(y_true_clipped*y_pred_clipped,axis=1)\n",
    "    b = K.sum(y_true_clipped*(1-y_pred_clipped),axis=1)\n",
    "    c = K.sum((1-y_true_clipped)*y_pred_clipped,axis=1)\n",
    "    \n",
    "    \n",
    "    return K.mean(2*a/(2*a+b+c))"
   ]
  },
  {
   "cell_type": "markdown",
   "metadata": {},
   "source": [
    "### 1.5 Data Splitting"
   ]
  },
  {
   "cell_type": "markdown",
   "metadata": {},
   "source": [
    "Apparently, class imbalance does exist in our dataset, which is shown above, therefore we have to control the distribution of each class in both training set and testing set, thus attempting to achieve our performance. In that case, Stratified ShuffleSplit cross-validator is a great choice. This cross-validation object is a merge of StratifiedKFold and ShuffleSplit, which returns stratified randomized folds. The folds are made by preserving the percentage of samples for each class. Shuffling splits would greatly reduce the possibility of overfitting. As a result, our model could take care of more about high quality wines, avoiding the case of only predicting low and medium quality. "
   ]
  },
  {
   "cell_type": "code",
   "execution_count": 10,
   "metadata": {},
   "outputs": [
    {
     "name": "stdout",
     "output_type": "stream",
     "text": [
      "The shape of X_train: (5197, 15)\n",
      "The shape of X_test: (1300, 15)\n",
      "The shape of X: (6497, 15)\n"
     ]
    }
   ],
   "source": [
    "from sklearn.model_selection import StratifiedShuffleSplit\n",
    "\n",
    "# we want to predict the X and y data as follows:\n",
    "if 'quality' in df:\n",
    "    y = df['quality'].values # get the labels we want\n",
    "    #del df['quality'] # get rid of the class label\n",
    "    X = df.values # use everything else to predict!\n",
    "    \n",
    "# split our data into train and test sets using StratifiedShuffleSplit\n",
    "cv_outerloop = StratifiedShuffleSplit(n_splits=10, test_size  = 0.2, random_state = 3)\n",
    "cv_outerloop.get_n_splits(X, y)\n",
    "\n",
    "for train_index, test_index in cv_outerloop.split(X, y):\n",
    "    X_train, X_test = X[train_index], X[test_index]\n",
    "    y_train, y_test = y[train_index], y[test_index]\n",
    "\n",
    "print('The shape of X_train:',X_train.shape)\n",
    "print('The shape of X_test:',X_test.shape)\n",
    "print('The shape of X:',X.shape)"
   ]
  },
  {
   "cell_type": "code",
   "execution_count": 19,
   "metadata": {
    "collapsed": true
   },
   "outputs": [],
   "source": [
    "from sklearn.preprocessing import LabelEncoder\n",
    "from sklearn.preprocessing import StandardScaler\n",
    " \n",
    "def data_process(df_train, df_test, categ_headers, num_headers):\n",
    "    # encode the categorical features as integers\n",
    "    encoders = dict()\n",
    "    categorical_headers = categ_headers\n",
    "\n",
    "    for col in categorical_headers+['quality']:\n",
    "        df_train[col] = df_train[col].str.strip()\n",
    "        df_test[col] = df_test[col].str.strip()\n",
    "    \n",
    "        if col==\"quality\":\n",
    "            tmp = LabelEncoder()\n",
    "            df_train[col] = tmp.fit_transform(df_train[col])\n",
    "            df_test[col] = tmp.transform(df_test[col])\n",
    "        else:\n",
    "            encoders[col] = LabelEncoder()\n",
    "            df_train[col+'_int'] = encoders[col].fit_transform(df_train[col])\n",
    "            df_test[col+'_int'] = encoders[col].transform(df_test[col])\n",
    "\n",
    "    # scale all the continuous data\n",
    "    numeric_headers = num_headers\n",
    "\n",
    "    for col in numeric_headers:\n",
    "        df_train[col] = df_train[col].astype(np.float)\n",
    "        df_test[col] = df_test[col].astype(np.float)\n",
    "    \n",
    "        ss = StandardScaler()\n",
    "        df_train[col] = ss.fit_transform(df_train[col].values.reshape(-1, 1))\n",
    "        df_test[col] = ss.transform(df_test[col].values.reshape(-1, 1))\n",
    "    \n",
    "    # let's start as simply as possible, without any feature preprocessing\n",
    "    categorical_headers_ints = [x+'_int' for x in categorical_headers]\n",
    "    \n",
    "    # we will forego one-hot encoding right now and instead just scale all inputs\n",
    "    feature_columns = categorical_headers_ints + numeric_headers\n",
    "    X_train =  ss.fit_transform(df_train[feature_columns].values).astype(np.float32)\n",
    "    X_test =  ss.transform(df_test[feature_columns].values).astype(np.float32)\n",
    "\n",
    "    y_train = df_train['quality'].values.astype(np.int)\n",
    "    y_test = df_test['quality'].values.astype(np.int)\n",
    "\n",
    "    # and save off the numeric features\n",
    "    X_train_num =  df_train[numeric_headers].values\n",
    "    X_test_num = df_test[numeric_headers].values\n",
    "    \n",
    "    return X_train, X_test, y_train, y_test, X_train_num, X_test_num"
   ]
  },
  {
   "cell_type": "markdown",
   "metadata": {},
   "source": [
    "<a id=\"Modeling\"></a>\n",
    "## 2. Modeling"
   ]
  },
  {
   "cell_type": "markdown",
   "metadata": {},
   "source": [
    "### 2.1 Wide and Deep Network"
   ]
  },
  {
   "cell_type": "code",
   "execution_count": 12,
   "metadata": {
    "collapsed": true
   },
   "outputs": [],
   "source": [
    "from keras.models import Sequential\n",
    "from keras.layers import Dense, Activation, Input\n",
    "from keras.layers import Embedding, Flatten, Merge, concatenate\n",
    "from keras.models import Model\n",
    "from keras.utils import to_categorical\n",
    "from sklearn.metrics import f1_score as f1"
   ]
  },
  {
   "cell_type": "markdown",
   "metadata": {},
   "source": [
    "To create a cross wide deep network, we need to decide which categorical features needed to be crossed. There are four categorical variables in wine dataset: wine type(red and white), alcohol(alcohol level), cont_citric(contain citric or not) and density_water(yes or no). \n",
    "\n",
    "Considering the fact that the physical and chemical properties have difference influence on the quaility of red and white wine, it will make sense to cancatenate wine type with other three features to form new cross columns. In this way we might be able to explore underlying relationship. For instance, red wine with density above water tends to have medium quality."
   ]
  },
  {
   "cell_type": "code",
   "execution_count": 12,
   "metadata": {
    "collapsed": true
   },
   "outputs": [],
   "source": [
    "def create_croswide_deep_network(df_train, df_test, y_train, y_test, X_train_num, X_test_num):\n",
    "\n",
    "    y_train_ohe = to_categorical(y_train)\n",
    "    y_test_ohe = to_categorical(y_test)\n",
    "    \n",
    "    cross_columns = [['wine_type','alcohol'], ['wine_type','cont_citric'], \n",
    "                     ['wine_type', 'density_water']]\n",
    "    # we need to create separate sequential models for each embedding\n",
    "    embed_branches = []\n",
    "    X_ints_train = []\n",
    "    X_ints_test = []\n",
    "    all_inputs = []\n",
    "    all_branch_outputs = []\n",
    "    NUMCLASSES = y_train_ohe.shape[1]\n",
    "    categorical_headers_ints = [x+'_int' for x in categorical_headers]\n",
    "    \n",
    "    for cols in cross_columns:\n",
    "        # encode crossed columns as ints for the embedding\n",
    "        enc = LabelEncoder()\n",
    "    \n",
    "        # create crossed labels\n",
    "        X_crossed_train = df_train[cols].apply(lambda x: '_'.join(x), axis=1)\n",
    "        X_crossed_test = df_test[cols].apply(lambda x: '_'.join(x), axis=1)\n",
    "    \n",
    "        enc.fit(np.hstack((X_crossed_train.values,  X_crossed_test.values)))\n",
    "        X_crossed_train = enc.transform(X_crossed_train)\n",
    "        X_crossed_test = enc.transform(X_crossed_test)\n",
    "        X_ints_train.append( X_crossed_train )\n",
    "        X_ints_test.append( X_crossed_test )\n",
    "    \n",
    "        # get the number of categories\n",
    "        N = max(X_ints_train[-1]+1) # same as the max(df_train[col])\n",
    "        Ntmp = max(X_ints_test[-1]+1)\n",
    "        N = max([N,Ntmp])\n",
    "    \n",
    "        # create embedding branch from the number of categories\n",
    "        inputs = Input(shape=(1,),dtype='int32',name = '_'.join(cols))\n",
    "        all_inputs.append(inputs)\n",
    "        x = Embedding(input_dim=N, output_dim=int(np.sqrt(N)), input_length=1)(inputs)\n",
    "        x = Flatten()(x)\n",
    "        all_branch_outputs.append(x)\n",
    "    \n",
    "    # merge the branches together\n",
    "    wide_branch = concatenate(all_branch_outputs)\n",
    "\n",
    "    # reset this input branch\n",
    "    all_branch_outputs = []\n",
    "    # add in the embeddings\n",
    "    for col in categorical_headers_ints:\n",
    "        # encode as ints for the embedding\n",
    "        X_ints_train.append( df_train[col].values )\n",
    "        X_ints_test.append( df_test[col].values )\n",
    "    \n",
    "        # get the number of categories\n",
    "        N = max(X_ints_train[-1]+1) # same as the max(df_train[col])\n",
    "    \n",
    "        # create embedding branch from the number of categories\n",
    "        inputs = Input(shape=(1,),dtype='int32', name=col)\n",
    "        all_inputs.append(inputs)\n",
    "        x = Embedding(input_dim=N, output_dim=int(np.sqrt(N)), input_length=1)(inputs)\n",
    "        x = Flatten()(x)\n",
    "        all_branch_outputs.append(x)\n",
    "    \n",
    "    # also get a dense branch of the numeric features\n",
    "    all_inputs.append(Input(shape=(X_train_num.shape[1],),sparse=False,name='numeric_data'))\n",
    "    x = Dense(units=30, activation='relu')(all_inputs[-1])\n",
    "    all_branch_outputs.append( x )\n",
    "\n",
    "    # merge the branches together\n",
    "    deep_branch = concatenate(all_branch_outputs)\n",
    "    deep_branch = Dense(units=40,activation='relu')(deep_branch)\n",
    "    deep_branch = Dense(units=30,activation='relu')(deep_branch)\n",
    "    deep_branch = Dense(units=10,activation='relu')(deep_branch)\n",
    "    \n",
    "    final_branch = concatenate([wide_branch, deep_branch])\n",
    "    final_branch = Dense(units=NUMCLASSES,activation='relu')(final_branch)\n",
    "\n",
    "    model1 = Model(inputs=all_inputs, outputs=final_branch)\n",
    "\n",
    "    model1.compile(optimizer='adagrad',\n",
    "              loss='mean_squared_error',\n",
    "              metrics=[f1_score])\n",
    "\n",
    "    model1.fit(X_ints_train+[X_train_num],\n",
    "        y_train_ohe, epochs=20, batch_size=32, verbose=0)\n",
    "    \n",
    "    yhat_ohe = np.round(model1.predict(X_ints_test + [X_test_num]))\n",
    "    \n",
    "    return f1(y_test,np.argmax(yhat_ohe,axis=1), average = 'micro'), yhat_ohe"
   ]
  },
  {
   "cell_type": "code",
   "execution_count": 13,
   "metadata": {
    "collapsed": true
   },
   "outputs": [],
   "source": [
    "scores = []\n",
    "for train_index, test_index in cv_outerloop.split(X, y):\n",
    "    X_train, X_test = X[train_index], X[test_index]\n",
    "    y_train, y_test = y[train_index], y[test_index]\n",
    "    \n",
    "    df_train = pd.DataFrame(X_train, columns = df.columns)\n",
    "    df_test = pd.DataFrame(X_test, columns = df.columns)\n",
    "    \n",
    "    X_train, X_test, y_train, y_test, X_train_num, X_test_num = data_process(df_train, df_test, \n",
    "                                                                             categorical_headers, numeric_headers)\n",
    "\n",
    "    score, probas = create_croswide_deep_network(df_train, df_test, y_train, y_test, X_train_num, X_test_num)\n",
    "    scores.append(score)"
   ]
  },
  {
   "cell_type": "code",
   "execution_count": 14,
   "metadata": {},
   "outputs": [
    {
     "name": "stdout",
     "output_type": "stream",
     "text": [
      "f1_score_model1:  0.558846153846 +- 0.0211103844437\n"
     ]
    },
    {
     "data": {
      "image/png": "[encoded data removed]",
      "text/plain": [
       "<matplotlib.figure.Figure at 0x1261dac88>"
      ]
     },
     "metadata": {},
     "output_type": "display_data"
    }
   ],
   "source": [
    "from sklearn.metrics import mean_squared_error\n",
    "import matplotlib.pyplot as plt\n",
    "import warnings\n",
    "warnings.simplefilter('ignore', DeprecationWarning)\n",
    "%matplotlib inline \n",
    "\n",
    "model1_score = np.array(scores)\n",
    "print('f1_score_model1: ', model1_score.mean(),'+-',1.96*model1_score.std())\n",
    "\n",
    "plt.figure(figsize= (15,8))\n",
    "plt.plot(model1_score, label='Model1')\n",
    "plt.legend(loc='best')\n",
    "plt.title('f1_score of Model1')\n",
    "plt.xlabel('CV')\n",
    "plt.ylabel('f1_score')\n",
    "plt.show()"
   ]
  },
  {
   "cell_type": "markdown",
   "metadata": {},
   "source": [
    "### 2.2 Comparison of Different Deep Network"
   ]
  },
  {
   "cell_type": "markdown",
   "metadata": {},
   "source": [
    "Different number of layers may lead to different network performance. Cross categrorcal features could also lead to a difference. By investigating them we can get general idea about how Deep Network is affected by these factors.\n",
    "\n",
    "Here we will use three models with different deep network architectures and compare their performance. Model1 is the wide and deep network we create before with cross columns of categorical features. Model2 and model3 are deep network without cross columns, but with different number of layers. We train and fit them on the same datasets obtained from StratifiedShuffleSplit and use f1_score as indicator to compare their performance. "
   ]
  },
  {
   "cell_type": "code",
   "execution_count": 15,
   "metadata": {
    "collapsed": true
   },
   "outputs": [],
   "source": [
    "def create_deep_network(df_train, df_test, y_train, y_test, X_train_num, X_test_num):\n",
    "    \n",
    "    y_train_ohe = to_categorical(y_train)\n",
    "    y_test_ohe = to_categorical(y_test)\n",
    "    \n",
    "    # we need to create separate sequential models for each embedding\n",
    "    embed_branches = []\n",
    "    X_ints_train = []\n",
    "    X_ints_test = []\n",
    "    all_inputs = []\n",
    "    all_branch_outputs = []\n",
    "    NUMCLASSES = y_train_ohe.shape[1]\n",
    "    categorical_headers_ints = [x+'_int' for x in categorical_headers]\n",
    "    # add in the embeddings\n",
    "    for col in categorical_headers_ints:\n",
    "        # encode as ints for the embedding\n",
    "        X_ints_train.append( df_train[col].values )\n",
    "        X_ints_test.append( df_test[col].values )\n",
    "    \n",
    "        # get the number of categories\n",
    "        N = max(X_ints_train[-1]+1) # same as the max(df_train[col])\n",
    "    \n",
    "        # create embedding branch from the number of categories\n",
    "        inputs = Input(shape=(1,),dtype='int32', name=col)\n",
    "        all_inputs.append(inputs)\n",
    "        x = Embedding(input_dim=N, output_dim=int(np.sqrt(N)), input_length=1)(inputs)\n",
    "        x = Flatten()(x)\n",
    "        all_branch_outputs.append(x)\n",
    "    \n",
    "    # also get a dense branch of the numeric features\n",
    "    all_inputs.append(Input(shape=(X_train_num.shape[1],),sparse=False,name='numeric_data'))\n",
    "    x = Dense(units=20, activation='relu')(all_inputs[-1])\n",
    "    all_branch_outputs.append( x )\n",
    "\n",
    "    # merge the branches together\n",
    "    deep_branch = concatenate(all_branch_outputs)\n",
    "    deep_branch = Dense(units=45,activation='relu')(deep_branch)\n",
    "    deep_branch = Dense(units=40,activation='relu')(deep_branch)\n",
    "    deep_branch = Dense(units=35,activation='relu')(deep_branch)\n",
    "    deep_branch = Dense(units=30,activation='relu')(deep_branch)\n",
    "    deep_branch = Dense(units=25,activation='relu')(deep_branch)\n",
    "    deep_branch = Dense(units=20,activation='relu')(deep_branch)\n",
    "    deep_branch = Dense(units=10,activation='relu')(deep_branch)\n",
    "    \n",
    "    # final_branch = concatenate(deep_branch)\n",
    "    final_branch = Dense(units=NUMCLASSES,activation='relu')(deep_branch)\n",
    "\n",
    "    model2 = Model(inputs=all_inputs, outputs=final_branch)\n",
    "\n",
    "    model2.compile(optimizer='adagrad',\n",
    "              loss='mean_squared_error',\n",
    "              metrics=[f1_score])\n",
    "\n",
    "    model2.fit(X_ints_train+[X_train_num],\n",
    "        y_train_ohe, epochs=20, batch_size=32, verbose=0)\n",
    "    \n",
    "    yhat_ohe = np.round(model2.predict(X_ints_test + [X_test_num]))\n",
    "    return f1(y_test,np.argmax(yhat_ohe,axis=1), average = 'micro'), yhat_ohe"
   ]
  },
  {
   "cell_type": "code",
   "execution_count": 16,
   "metadata": {
    "collapsed": true
   },
   "outputs": [],
   "source": [
    "scores2 = []\n",
    "for train_index, test_index in cv_outerloop.split(X, y):\n",
    "    X_train, X_test = X[train_index], X[test_index]\n",
    "    y_train, y_test = y[train_index], y[test_index]\n",
    "    \n",
    "    df_train = pd.DataFrame(X_train, columns = df.columns)\n",
    "    df_test = pd.DataFrame(X_test, columns = df.columns)\n",
    "    \n",
    "    X_train, X_test, y_train, y_test, X_train_num, X_test_num = data_process(df_train, df_test, \n",
    "                                                                             categorical_headers, numeric_headers)\n",
    "\n",
    "    score, probas = create_deep_network(df_train, df_test, y_train, y_test, X_train_num, X_test_num)\n",
    "    scores2.append(score)"
   ]
  },
  {
   "cell_type": "code",
   "execution_count": 23,
   "metadata": {
    "collapsed": true
   },
   "outputs": [],
   "source": [
    "def create_deep_network2(df_train, df_test, y_train, y_test, X_train_num, X_test_num):\n",
    "    \n",
    "    y_train_ohe = to_categorical(y_train)\n",
    "    y_test_ohe = to_categorical(y_test)\n",
    "    \n",
    "    # we need to create separate sequential models for each embedding\n",
    "    embed_branches = []\n",
    "    X_ints_train = []\n",
    "    X_ints_test = []\n",
    "    all_inputs = []\n",
    "    all_branch_outputs = []\n",
    "    NUMCLASSES = y_train_ohe.shape[1]\n",
    "    categorical_headers_ints = [x+'_int' for x in categorical_headers]\n",
    "    # add in the embeddings\n",
    "    for col in categorical_headers_ints:\n",
    "        # encode as ints for the embedding\n",
    "        X_ints_train.append( df_train[col].values )\n",
    "        X_ints_test.append( df_test[col].values )\n",
    "    \n",
    "        # get the number of categories\n",
    "        N = max(X_ints_train[-1]+1) # same as the max(df_train[col])\n",
    "    \n",
    "        # create embedding branch from the number of categories\n",
    "        inputs = Input(shape=(1,),dtype='int32', name=col)\n",
    "        all_inputs.append(inputs)\n",
    "        x = Embedding(input_dim=N, output_dim=int(np.sqrt(N)), input_length=1)(inputs)\n",
    "        x = Flatten()(x)\n",
    "        all_branch_outputs.append(x)\n",
    "    \n",
    "    # also get a dense branch of the numeric features\n",
    "    all_inputs.append(Input(shape=(X_train_num.shape[1],),sparse=False,name='numeric_data'))\n",
    "    x = Dense(units=20, activation='relu')(all_inputs[-1])\n",
    "    all_branch_outputs.append( x )\n",
    "\n",
    "    # merge the branches together\n",
    "    deep_branch = concatenate(all_branch_outputs)\n",
    "    deep_branch = Dense(units=45,activation='relu')(deep_branch)\n",
    "    deep_branch = Dense(units=35,activation='relu')(deep_branch)\n",
    "    deep_branch = Dense(units=25,activation='relu')(deep_branch)\n",
    "    deep_branch = Dense(units=10,activation='relu')(deep_branch)\n",
    "    \n",
    "    # final_branch = concatenate(deep_branch)\n",
    "    final_branch = Dense(units=NUMCLASSES,activation='relu')(deep_branch)\n",
    "\n",
    "    model2 = Model(inputs=all_inputs, outputs=final_branch)\n",
    "\n",
    "    model2.compile(optimizer='adagrad',\n",
    "              loss='mean_squared_error',\n",
    "              metrics=[f1_score])\n",
    "\n",
    "    model2.fit(X_ints_train+[X_train_num],\n",
    "        y_train_ohe, epochs=20, batch_size=32, verbose=0)\n",
    "    \n",
    "    yhat_ohe = np.round(model2.predict(X_ints_test + [X_test_num]))\n",
    "    return f1(y_test,np.argmax(yhat_ohe,axis=1), average = 'micro'), yhat_ohe"
   ]
  },
  {
   "cell_type": "code",
   "execution_count": 24,
   "metadata": {
    "collapsed": true
   },
   "outputs": [],
   "source": [
    "scores3 = []\n",
    "for train_index, test_index in cv_outerloop.split(X, y):\n",
    "    X_train, X_test = X[train_index], X[test_index]\n",
    "    y_train, y_test = y[train_index], y[test_index]\n",
    "    \n",
    "    df_train = pd.DataFrame(X_train, columns = df.columns)\n",
    "    df_test = pd.DataFrame(X_test, columns = df.columns)\n",
    "    \n",
    "    X_train, X_test, y_train, y_test, X_train_num, X_test_num = data_process(df_train, df_test, \n",
    "                                                                             categorical_headers, numeric_headers)\n",
    "\n",
    "    score, probas = create_deep_network2(df_train, df_test, y_train, y_test, X_train_num, X_test_num)\n",
    "    scores3.append(score)"
   ]
  },
  {
   "cell_type": "code",
   "execution_count": 25,
   "metadata": {
    "scrolled": true
   },
   "outputs": [
    {
     "name": "stdout",
     "output_type": "stream",
     "text": [
      "f1_score_model2:  0.512 +- 0.196305012376\n",
      "f1_score_model3:  0.564153846154 +- 0.0299435435642\n"
     ]
    },
    {
     "data": {
      "image/png": "[encoded data removed]",
      "text/plain": [
       "<matplotlib.figure.Figure at 0x13d496f98>"
      ]
     },
     "metadata": {},
     "output_type": "display_data"
    }
   ],
   "source": [
    "model2_score = np.array(scores2)\n",
    "model3_score = np.array(scores3)\n",
    "print('f1_score_model2: ', model2_score.mean(),'+-',1.96*model2_score.std())\n",
    "print('f1_score_model3: ', model3_score.mean(),'+-',1.96*model3_score.std())\n",
    "\n",
    "plt.figure(figsize= (15,8))\n",
    "plt.plot(model1_score, label='Model1', linestyle = '--')\n",
    "plt.plot(model2_score, label='Model2', linestyle='-.', marker='o')\n",
    "plt.plot(model3_score, label='Model3')\n",
    "plt.legend(loc='best')\n",
    "plt.title('f1_score of Model1, Model2 and Model3')\n",
    "plt.xlabel('CV')\n",
    "plt.ylabel('f1_score')\n",
    "plt.show()"
   ]
  },
  {
   "cell_type": "markdown",
   "metadata": {},
   "source": [
    "In stratifiedshafflesplit process, we split our data ten times and get ten different cv splits. For each model we train it on different splits and then get f1_scores separately. In this way we can avoid data snooping.\n",
    "\n",
    "From the plot above, we can find that they have best f1_score at aroud 0.57-0.61, which do not differ much. Model 1 and 3 show similiar pattern while model 2 is obviously more unstable than the others with several scores much lower than general results.\n",
    "\n",
    "We take model 3 as our best model since it has the best mean best f1 score and is stable within all cv split data."
   ]
  },
  {
   "cell_type": "markdown",
   "metadata": {},
   "source": [
    "### 2.3 Comparison of Best Deep Network and MLP"
   ]
  },
  {
   "cell_type": "code",
   "execution_count": 26,
   "metadata": {
    "collapsed": true
   },
   "outputs": [],
   "source": [
    "from sklearn.neural_network import MLPClassifier\n",
    "\n",
    "scores4 = []\n",
    "for train_index, test_index in cv_outerloop.split(X, y):\n",
    "    X_train, X_test = X[train_index], X[test_index]\n",
    "    y_train, y_test = y[train_index], y[test_index]\n",
    "    \n",
    "    df_train = pd.DataFrame(X_train, columns = df.columns)\n",
    "    df_test = pd.DataFrame(X_test, columns = df.columns)\n",
    "    \n",
    "    X_train, X_test, y_train, y_test, X_train_num, X_test_num = data_process(df_train, df_test, \n",
    "                                                                             categorical_headers, numeric_headers)\n",
    "\n",
    "    clf = MLPClassifier(hidden_layer_sizes=(50, ), activation='relu', solver='adam', alpha=0.0001, \n",
    "              batch_size='auto', learning_rate='constant', learning_rate_init=0.001, \n",
    "              max_iter=100, shuffle=True, random_state=None, tol=0.0001, \n",
    "              verbose=False, warm_start=False, momentum=0.9, nesterovs_momentum=True, early_stopping=False, \n",
    "              beta_1=0.9, beta_2=0.999, epsilon=1e-08)\n",
    "\n",
    "    clf.fit(X_train,y_train)\n",
    "    clf.score(X_test,y_test)\n",
    "    predictions = clf.predict(X_test)\n",
    "    scores4.append(f1(y_test,predictions, average = 'micro'))"
   ]
  },
  {
   "cell_type": "code",
   "execution_count": 27,
   "metadata": {
    "scrolled": true
   },
   "outputs": [
    {
     "name": "stdout",
     "output_type": "stream",
     "text": [
      "clf_score:  0.601923076923 +- 0.0177786268864\n"
     ]
    },
    {
     "data": {
      "image/png": "[encoded data removed]",
      "text/plain": [
       "<matplotlib.figure.Figure at 0x1367580b8>"
      ]
     },
     "metadata": {},
     "output_type": "display_data"
    }
   ],
   "source": [
    "clf_score = np.array(scores4)\n",
    "print('clf_score: ', clf_score.mean(),'+-',1.96*clf_score.std())\n",
    "\n",
    "plt.figure(figsize= (15,8))\n",
    "plt.plot(clf_score, label='clf', linestyle = '--')\n",
    "plt.plot(model3_score, label='Model3', linestyle='-.', marker='o')\n",
    "plt.legend(loc='best')\n",
    "plt.title('f1_score of clf and Model3')\n",
    "plt.xlabel('CV')\n",
    "plt.ylabel('f1_score')\n",
    "plt.show()"
   ]
  },
  {
   "cell_type": "markdown",
   "metadata": {},
   "source": [
    "Here we compare the generalization performance of our best deep network mdoel to MLP model. As you can see, both of them are relative stable varying no more than 4% in different cv. For overall data, the MLP model have a mean f1_score 3.5% better than model 3. Our Deep Network model might be underfitting."
   ]
  },
  {
   "cell_type": "code",
   "execution_count": 28,
   "metadata": {
    "collapsed": true
   },
   "outputs": [],
   "source": [
    "import sklearn\n",
    "from sklearn.metrics import roc_curve, auc\n",
    "from scipy import interp\n",
    "\n",
    "def plot_ROC(classifier):\n",
    "    mean_tpr = 0.0\n",
    "    mean_fpr = np.linspace(0, 1, 100)\n",
    "    all_tpr = []\n",
    "\n",
    "    cv = 0\n",
    "    for train_index, test_index in cv_outerloop.split(X, y):\n",
    "        cv += 1\n",
    "        X_train, X_test = X[train_index], X[test_index]\n",
    "        y_train, y_test = y[train_index], y[test_index]\n",
    "            \n",
    "        df_train = pd.DataFrame(X_train, columns = df.columns)\n",
    "        df_test = pd.DataFrame(X_test, columns = df.columns)\n",
    "        \n",
    "        X_train, X_test, y_train, y_test, X_train_num, X_test_num = data_process(df_train, df_test, \n",
    "                                                                                 categorical_headers, numeric_headers)\n",
    "        \n",
    "        probas = []\n",
    "        if(classifier is 'clf'):\n",
    "            clf = MLPClassifier(hidden_layer_sizes=(50, ), activation='relu', solver='adam', alpha=0.0001, \n",
    "              batch_size='auto', learning_rate='constant', learning_rate_init=0.001, \n",
    "              max_iter=100, shuffle=True, random_state=None, tol=0.0001, \n",
    "              verbose=False, warm_start=False, momentum=0.9, nesterovs_momentum=True, early_stopping=False, \n",
    "              beta_1=0.9, beta_2=0.999, epsilon=1e-08)\n",
    "        \n",
    "            clf.fit(X_train,y_train)\n",
    "            clf.score(X_test,y_test)\n",
    "            probas = clf.predict_proba(X_test)\n",
    "        else:\n",
    "            score, probas = create_deep_network2(df_train, df_test, y_train, y_test, X_train_num, X_test_num)\n",
    "              \n",
    "        perclass_mean_tpr = 0.0\n",
    "        roc_auc = 0\n",
    "        classes = np.unique(y_train)\n",
    "        # get the mean fpr and tpr, per class\n",
    "        for j in classes:\n",
    "            fpr, tpr, thresholds = roc_curve(y_test,\n",
    "                                         probas[:, j],\n",
    "                                         pos_label=j)\n",
    "            perclass_mean_tpr += interp(mean_fpr, fpr, tpr)\n",
    "            perclass_mean_tpr[0] = 0.0\n",
    "            roc_auc += auc(fpr, tpr)\n",
    "        \n",
    "        perclass_mean_tpr /= len(classes)\n",
    "        roc_auc /= len(classes)\n",
    "        mean_tpr += perclass_mean_tpr\n",
    "        plt.plot(mean_fpr,perclass_mean_tpr,'--',lw=1,label='Mean Class ROC cv %d (area = %0.2f)'\n",
    "                   % (cv, roc_auc))\n",
    "    mean_tpr /= cv\n",
    "    mean_auc = auc(mean_fpr, mean_tpr)\n",
    "    plt.plot(mean_fpr,perclass_mean_tpr,'k-',lw=2,label='Total Mean ROC (area = %0.2f)'\n",
    "                   % (mean_auc))\n",
    "    plt.legend(loc='best')\n",
    "    plt.grid()"
   ]
  },
  {
   "cell_type": "code",
   "execution_count": 21,
   "metadata": {},
   "outputs": [
    {
     "data": {
      "image/png": "[encoded data removed]",
      "text/plain": [
       "<matplotlib.figure.Figure at 0x126c03be0>"
      ]
     },
     "metadata": {},
     "output_type": "display_data"
    }
   ],
   "source": [
    "plot_ROC('clf')"
   ]
  },
  {
   "cell_type": "code",
   "execution_count": 29,
   "metadata": {
    "scrolled": true
   },
   "outputs": [
    {
     "data": {
      "image/png": "[encoded data removed]",
      "text/plain": [
       "<matplotlib.figure.Figure at 0x13d659d68>"
      ]
     },
     "metadata": {},
     "output_type": "display_data"
    }
   ],
   "source": [
    "plot_ROC('model3')"
   ]
  },
  {
   "cell_type": "markdown",
   "metadata": {},
   "source": [
    "From the plot, we can see that the MLP model has the curve comparatively closer to the upper-left corner overall. The MLP model has a better performance with mean AUC of 0.78 than that of model2, which is 0.67. This result is consistent with what we find from f1_score plot.\n",
    "\n",
    "In Model3 ROC, we notice that the False positive rate is relative higher at the same True positive rate, leading the overall curve deviates from the upper-left corner and has smaller AUC. That is because the default shreshold we used to classfy positive and negative in model might be smaller than needed. Therefore, it will misclassify some more negative into positive predictions, thus reduce our f1_score."
   ]
  },
  {
   "cell_type": "markdown",
   "metadata": {},
   "source": [
    "<a id=\"ExceptionalWork\"></a>\n",
    "## 3. Exceptional Work"
   ]
  },
  {
   "cell_type": "code",
   "execution_count": 14,
   "metadata": {},
   "outputs": [
    {
     "name": "stdout",
     "output_type": "stream",
     "text": [
      "             precision    recall  f1-score   support\n",
      "\n",
      "          0       0.40      0.59      0.48       256\n",
      "          1       0.65      0.70      0.68       477\n",
      "          2       0.58      0.43      0.49       567\n",
      "\n",
      "avg / total       0.57      0.56      0.56      1300\n",
      "\n",
      "[[151  13  92]\n",
      " [ 59 334  84]\n",
      " [163 163 241]]\n"
     ]
    }
   ],
   "source": [
    "#Deploy our model3 here\n",
    "from sklearn.metrics import classification_report,confusion_matrix\n",
    "\n",
    "for train_index, test_index in cv_outerloop.split(X, y):\n",
    "    X_train, X_test = X[train_index], X[test_index]\n",
    "    y_train, y_test = y[train_index], y[test_index]\n",
    "    \n",
    "df_train = pd.DataFrame(X_train, columns = df.columns)\n",
    "df_test = pd.DataFrame(X_test, columns = df.columns)\n",
    "\n",
    "X_train, X_test, y_train, y_test, X_train_num, X_test_num = data_process(df_train, df_test, \n",
    "                                                                             categorical_headers, numeric_headers)\n",
    "    \n",
    "\n",
    "y_train_ohe = to_categorical(y_train)\n",
    "y_test_ohe = to_categorical(y_test)\n",
    "    \n",
    "# we need to create separate sequential models for each embedding\n",
    "embed_branches = []\n",
    "X_ints_train = []\n",
    "X_ints_test = []\n",
    "all_inputs = []\n",
    "all_branch_outputs = []\n",
    "NUMCLASSES = y_train_ohe.shape[1]\n",
    "categorical_headers_ints = [x+'_int' for x in categorical_headers]\n",
    "# add in the embeddings\n",
    "for col in categorical_headers_ints:\n",
    "    # encode as ints for the embedding\n",
    "    X_ints_train.append( df_train[col].values )\n",
    "    X_ints_test.append( df_test[col].values )\n",
    "    \n",
    "    # get the number of categories\n",
    "    N = max(X_ints_train[-1]+1) # same as the max(df_train[col])\n",
    "    \n",
    "    # create embedding branch from the number of categories\n",
    "    inputs = Input(shape=(1,),dtype='int32', name=col)\n",
    "    all_inputs.append(inputs)\n",
    "    x = Embedding(input_dim=N, output_dim=int(np.sqrt(N)), input_length=1)(inputs)\n",
    "    x = Flatten()(x)\n",
    "    all_branch_outputs.append(x)\n",
    "    \n",
    "# also get a dense branch of the numeric features\n",
    "all_inputs.append(Input(shape=(X_train_num.shape[1],),sparse=False,name='numeric_data'))\n",
    "x = Dense(units=20, activation='relu')(all_inputs[-1])\n",
    "all_branch_outputs.append( x )\n",
    "\n",
    "# merge the branches together\n",
    "deep_branch = concatenate(all_branch_outputs)\n",
    "deep_branch = Dense(units=45,activation='relu')(deep_branch)\n",
    "deep_branch = Dense(units=35,activation='relu')(deep_branch)\n",
    "deep_branch = Dense(units=25,activation='relu')(deep_branch)\n",
    "deep_branch = Dense(units=10,activation='relu')(deep_branch)\n",
    "    \n",
    "# final_branch = concatenate(deep_branch)\n",
    "final_branch = Dense(units=NUMCLASSES,activation='relu')(deep_branch)\n",
    "\n",
    "model_best = Model(inputs=all_inputs, outputs=final_branch)\n",
    "\n",
    "model_best.compile(optimizer='adagrad',\n",
    "              loss='mean_squared_error',\n",
    "              metrics=[f1_score])\n",
    "\n",
    "model_best.fit(X_ints_train+[X_train_num],\n",
    "        y_train_ohe, epochs=20, batch_size=32, verbose=0)\n",
    "    \n",
    "yhat_ohe = np.round(model_best.predict(X_ints_test + [X_test_num]))\n",
    "print(classification_report(y_test,np.argmax(yhat_ohe,axis=1)))\n",
    "print(confusion_matrix(y_test,np.argmax(yhat_ohe,axis=1)))"
   ]
  },
  {
   "cell_type": "code",
   "execution_count": 15,
   "metadata": {
    "collapsed": true
   },
   "outputs": [],
   "source": [
    "from keras import layers\n",
    "import seaborn as sns\n",
    "sns.set(style=\"darkgrid\")\n",
    "\n",
    "def plot_weights_layer(embed_name,model):\n",
    "    layer = model.get_layer(embed_name)\n",
    "    weight = layer.get_weights()[0]\n",
    "    return weight"
   ]
  },
  {
   "cell_type": "code",
   "execution_count": 16,
   "metadata": {
    "scrolled": true
   },
   "outputs": [
    {
     "name": "stdout",
     "output_type": "stream",
     "text": [
      "____________________________________________________________________________________________________\n",
      "Layer (type)                     Output Shape          Param #     Connected to                     \n",
      "====================================================================================================\n",
      "alcohol_int (InputLayer)         (None, 1)             0                                            \n",
      "____________________________________________________________________________________________________\n",
      "wine_type_int (InputLayer)       (None, 1)             0                                            \n",
      "____________________________________________________________________________________________________\n",
      "cont_citric_int (InputLayer)     (None, 1)             0                                            \n",
      "____________________________________________________________________________________________________\n",
      "density_water_int (InputLayer)   (None, 1)             0                                            \n",
      "____________________________________________________________________________________________________\n",
      "embedding_5 (Embedding)          (None, 1, 2)          8           alcohol_int[0][0]                \n",
      "____________________________________________________________________________________________________\n",
      "embedding_6 (Embedding)          (None, 1, 1)          2           wine_type_int[0][0]              \n",
      "____________________________________________________________________________________________________\n",
      "embedding_7 (Embedding)          (None, 1, 1)          2           cont_citric_int[0][0]            \n",
      "____________________________________________________________________________________________________\n",
      "embedding_8 (Embedding)          (None, 1, 1)          2           density_water_int[0][0]          \n",
      "____________________________________________________________________________________________________\n",
      "numeric_data (InputLayer)        (None, 10)            0                                            \n",
      "____________________________________________________________________________________________________\n",
      "flatten_5 (Flatten)              (None, 2)             0           embedding_5[0][0]                \n",
      "____________________________________________________________________________________________________\n",
      "flatten_6 (Flatten)              (None, 1)             0           embedding_6[0][0]                \n",
      "____________________________________________________________________________________________________\n",
      "flatten_7 (Flatten)              (None, 1)             0           embedding_7[0][0]                \n",
      "____________________________________________________________________________________________________\n",
      "flatten_8 (Flatten)              (None, 1)             0           embedding_8[0][0]                \n",
      "____________________________________________________________________________________________________\n",
      "dense_7 (Dense)                  (None, 20)            220         numeric_data[0][0]               \n",
      "____________________________________________________________________________________________________\n",
      "concatenate_2 (Concatenate)      (None, 25)            0           flatten_5[0][0]                  \n",
      "                                                                   flatten_6[0][0]                  \n",
      "                                                                   flatten_7[0][0]                  \n",
      "                                                                   flatten_8[0][0]                  \n",
      "                                                                   dense_7[0][0]                    \n",
      "____________________________________________________________________________________________________\n",
      "dense_8 (Dense)                  (None, 45)            1170        concatenate_2[0][0]              \n",
      "____________________________________________________________________________________________________\n",
      "dense_9 (Dense)                  (None, 35)            1610        dense_8[0][0]                    \n",
      "____________________________________________________________________________________________________\n",
      "dense_10 (Dense)                 (None, 25)            900         dense_9[0][0]                    \n",
      "____________________________________________________________________________________________________\n",
      "dense_11 (Dense)                 (None, 10)            260         dense_10[0][0]                   \n",
      "____________________________________________________________________________________________________\n",
      "dense_12 (Dense)                 (None, 3)             33          dense_11[0][0]                   \n",
      "====================================================================================================\n",
      "Total params: 4,207\n",
      "Trainable params: 4,207\n",
      "Non-trainable params: 0\n",
      "____________________________________________________________________________________________________\n"
     ]
    }
   ],
   "source": [
    "model_best.summary()"
   ]
  },
  {
   "cell_type": "markdown",
   "metadata": {},
   "source": [
    "Here, we can see the four embedding layers wihch indicates to measure whether the degree of alcohol, the wine type, wether it contians cont_citric, and whether its density is greater or less than water. Next, we grasp the detailed embedding weights of them. "
   ]
  },
  {
   "cell_type": "code",
   "execution_count": 17,
   "metadata": {},
   "outputs": [
    {
     "name": "stdout",
     "output_type": "stream",
     "text": [
      "[ 0.20800284 -0.14754331]\n",
      "[-0.22215238  0.13255724]\n",
      "[-0.15726514  0.06740034]\n",
      "[ 0.10607797  0.0251784 ]\n"
     ]
    }
   ],
   "source": [
    "weight_1 = plot_weights_layer('embedding_5',model_best)\n",
    "combin_weight = []\n",
    "weight_1_col1 = []\n",
    "weight_1_col2 = []\n",
    "for embed in weight_1:\n",
    "    print(embed)\n",
    "    weight_1_col1.append(abs(embed[0])*100)\n",
    "    weight_1_col2.append(abs(embed[1])*100)\n",
    "    # multiple 100 in order to get the porportion in the pie chart later\n",
    "    combin_weight.append(100*np.sum(np.abs(embed)))"
   ]
  },
  {
   "cell_type": "markdown",
   "metadata": {},
   "source": [
    "Here, the embedding matrix transform the original four categories into two, which follows the matrix-vector product. Output (O) = Input (I) * embedding weights,\n",
    "$$\n",
    "O \\in \\mathbb{R^{4\\times 1}} \n",
    "$$\n",
    "$$\n",
    "I \\in \\mathbb{R^{2\\times 1}} \n",
    "$$\n",
    "We set the output dimension to be the square root of the input feature numbers, that is $\\sqrt{4} = 2$\n",
    "$$\n",
    "  \\begin{matrix}\\begin{pmatrix} \\text{Low} &  \n",
    "  \\text{Med-Low} & \n",
    "  \\text{Med-High} &\n",
    "  \\text{High}\n",
    "  \\end{pmatrix}\\\\\\mbox{}\\end{matrix} =\n",
    "  \\begin{pmatrix} -0.20703742 & 0.22353411 \\\\\n",
    "  0.21779783 & -0.02634452 \\\\\n",
    "  0.09239042 & -0.00748564 \\\\\n",
    "  -0.05395687 & -0.04576383 \\end{pmatrix} \n",
    "  \\begin{pmatrix} \\text{O1} \\\\ \\text{O2} \\end{pmatrix}\n",
    "$$\n",
    "We would like to investigate which category is relatively more important than other categories in the alcohol inclusion degree in the prediction. Let's do the pie chart!"
   ]
  },
  {
   "cell_type": "code",
   "execution_count": 23,
   "metadata": {},
   "outputs": [
    {
     "ename": "KeyError",
     "evalue": "'wine_type_int'",
     "output_type": "error",
     "traceback": [
      "\u001b[0;31m---------------------------------------------------------------------------\u001b[0m",
      "\u001b[0;31mKeyError\u001b[0m                                  Traceback (most recent call last)",
      "\u001b[0;32m<ipython-input-23-52e7dbcc4686>\u001b[0m in \u001b[0;36m<module>\u001b[0;34m()\u001b[0m\n\u001b[0;32m----> 1\u001b[0;31m \u001b[0mencoders\u001b[0m\u001b[0;34m[\u001b[0m\u001b[0;34m'wine_type_int'\u001b[0m\u001b[0;34m]\u001b[0m\u001b[0;34m.\u001b[0m\u001b[0minverse_transform\u001b[0m\u001b[0;34m(\u001b[0m\u001b[0;34m[\u001b[0m\u001b[0;36m0\u001b[0m\u001b[0;34m,\u001b[0m\u001b[0;36m1\u001b[0m\u001b[0;34m]\u001b[0m\u001b[0;34m)\u001b[0m\u001b[0;34m\u001b[0m\u001b[0m\n\u001b[0m",
      "\u001b[0;31mKeyError\u001b[0m: 'wine_type_int'"
     ]
    }
   ],
   "source": [
    "encoders['wine_type_int'].inverse_transform([0,1])"
   ]
  },
  {
   "cell_type": "code",
   "execution_count": null,
   "metadata": {
    "collapsed": true
   },
   "outputs": [],
   "source": [
    "import matplotlib.pyplot as plt\n",
    "\n",
    "def plot_alc_weights(weight_column, title):\n",
    "    # For the first categorical feature - alcohol_int\n",
    "    labels = 'Low', 'Medium-Low', 'Medium', 'Medium-High'\n",
    "    sizes = weight_column\n",
    "    colors = ['gold', 'yellowgreen', 'lightcoral', 'lightskyblue']\n",
    "    explode = (0.1, 0, 0, 0)  # explode 1st slice\n",
    "\n",
    "    # Plot\n",
    "    plt.pie(sizes, explode=explode, labels=labels, colors=colors,\n",
    "            autopct='%1.1f%%', shadow=True, startangle=140)\n",
    "\n",
    "    plt.axis('equal')\n",
    "    plt.title(title)\n",
    "    plt.show()"
   ]
  },
  {
   "cell_type": "code",
   "execution_count": null,
   "metadata": {},
   "outputs": [],
   "source": [
    "plot_alc_weights(weight_1_col1,\n",
    "                 'alcohol degree weights for the first embedded feature')\n"
   ]
  },
  {
   "cell_type": "markdown",
   "metadata": {},
   "source": [
    "For the first output embedded feature, we can see the Low and Medium-Low categories are more critical than the Medium and Medium-High categories. As we see the data above, even if the Low and Medium-Low's weight is relatively bigger than the rest, their actual wieghts value are not greater than 0.5, which cannot make a dominant postion. It's possible that the wide architecture (corssed-features) does not make much different for the dataset."
   ]
  },
  {
   "cell_type": "code",
   "execution_count": null,
   "metadata": {},
   "outputs": [],
   "source": [
    "plot_alc_weights(weight_1_col2,\n",
    "                 'alcohol degree weights for the second embedded feature')\n"
   ]
  },
  {
   "cell_type": "markdown",
   "metadata": {},
   "source": [
    "For the second output embedded feature, we can see the Low becomes the most significant one. However, the same situation happens that the lagerest weight is still around 0.2 which leads a less influence."
   ]
  },
  {
   "cell_type": "code",
   "execution_count": null,
   "metadata": {},
   "outputs": [],
   "source": [
    "plot_alc_weights(combin_weight,\n",
    "                 'alcohol degree sum weights for the embedding')\n"
   ]
  },
  {
   "cell_type": "markdown",
   "metadata": {},
   "source": [
    "Sum up the absolute value of weights for output feature 1 and 2 render to the combine weight visualization above. The proportion follows our expectation as it represents both output features. Let's explore wether the wine type make things different then."
   ]
  },
  {
   "cell_type": "code",
   "execution_count": null,
   "metadata": {},
   "outputs": [],
   "source": [
    "weight_2 = plot_weights_layer('embedding_6',model_best)\n",
    "for embed in weight_2:\n",
    "    print(embed)\n",
    "    # multiple 100 in order to get the porportion in the pie chart later\n",
    "    embed *= 100 "
   ]
  },
  {
   "cell_type": "markdown",
   "metadata": {},
   "source": [
    "The weights keep small but the first category in the wine type affect more than the second catgory. It's worth to see how the relatively of the two features."
   ]
  },
  {
   "cell_type": "code",
   "execution_count": null,
   "metadata": {
    "collapsed": true
   },
   "outputs": [],
   "source": [
    "def plot_wine_weights(weight_column, title):\n",
    "    # For the first categorical feature - alcohol_int\n",
    "    labels = 'White', 'Red'\n",
    "    sizes = weight_column\n",
    "    colors = ['lightcoral', 'lightskyblue']\n",
    "    explode = (0.1, 0)  # explode 1st slice\n",
    "\n",
    "    # Plot\n",
    "    plt.pie(sizes, explode=explode, labels=labels, colors=colors,\n",
    "            autopct='%1.1f%%', shadow=True, startangle=140)\n",
    "\n",
    "    plt.axis('equal')\n",
    "    plt.title(title)\n",
    "    plt.show()"
   ]
  },
  {
   "cell_type": "code",
   "execution_count": null,
   "metadata": {
    "scrolled": true
   },
   "outputs": [],
   "source": [
    "plot_wine_weights(weight_2, 'wine type weights for the embedding')"
   ]
  },
  {
   "cell_type": "markdown",
   "metadata": {},
   "source": [
    "White wine seems to be more importat in the quality of the wine than red wine does. "
   ]
  },
  {
   "cell_type": "code",
   "execution_count": null,
   "metadata": {},
   "outputs": [],
   "source": [
    "weight_3 = plot_weights_layer('embedding_7',model_best)\n",
    "for embed in weight_3:\n",
    "    print(embed)\n"
   ]
  },
  {
   "cell_type": "markdown",
   "metadata": {},
   "source": [
    "Both of the weights are quite small although the absolute value of the later is greater than the first one. It's not quite worthwhile to see the relatively proprotion in pie chart."
   ]
  },
  {
   "cell_type": "code",
   "execution_count": null,
   "metadata": {},
   "outputs": [],
   "source": [
    "weight_4 = plot_weights_layer('embedding_8',model_best)\n",
    "for embed in weight_4:\n",
    "    print(embed)"
   ]
  },
  {
   "cell_type": "markdown",
   "metadata": {},
   "source": [
    "Same here."
   ]
  },
  {
   "cell_type": "markdown",
   "metadata": {},
   "source": [
    "<a id=\"References\"></a>\n",
    "## References"
   ]
  },
  {
   "cell_type": "markdown",
   "metadata": {},
   "source": [
    "[1] http://www3.dsi.uminho.pt/pcortez/wine/\n",
    "\n",
    "[2] http://projects.csail.mit.edu/wiki/pub/Evodesign/SensoryEvaluationsDatabase/winequality09.pdf\n",
    "\n",
    "[3] https://www.kaggle.com/piyushgoyal443/red-wine-dataset\n",
    "\n",
    "[4] https://www.google.com/url?sa=t&rct=j&q=&esrc=s&source=web&cd=8&cad=rja&uact=8&ved=0ahUKEwiAzoKjo4TWAhVR7mMKHYEfCqoQFghYMAc&url=http%3A%2F%2Fwww2.cs.uh.edu%2F~ceick%2FDM%2FProject1-12.docx&usg=AFQjCNEcDQx4uPCOsg_047yFcPWUskD9yA\n",
    "\n",
    "[5] Paulo CortezJuliana TeixeiraAntónio CerdeiraFernando AlmeidaTelmo MatosJosé Reis. Modeling wine preferences by data mining from physicochemical properties. International Conference on Discovery Science. 2009 pp 66-79.\n",
    "\n",
    "[6] S. Ebeler, Flavor Chemistry — Thirty Years of Progress, Kluwer Academic Publishers, 1999, pp. 409–422, chapter Linking flavour chemistry to sensory\n",
    "analysis of wine."
   ]
  },
  {
   "cell_type": "code",
   "execution_count": null,
   "metadata": {
    "collapsed": true
   },
   "outputs": [],
   "source": []
  }
 ],
 "metadata": {
  "kernelspec": {
   "display_name": "Python 3",
   "language": "python",
   "name": "python3"
  },
  "language_info": {
   "codemirror_mode": {
    "name": "ipython",
    "version": 3
   },
   "file_extension": ".py",
   "mimetype": "text/x-python",
   "name": "python",
   "nbconvert_exporter": "python",
   "pygments_lexer": "ipython3",
   "version": "3.6.1"
  }
 },
 "nbformat": 4,
 "nbformat_minor": 2
}
