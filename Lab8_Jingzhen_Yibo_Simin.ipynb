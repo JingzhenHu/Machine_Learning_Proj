{
 "cells": [
  {
   "cell_type": "code",
   "execution_count": 1,
   "metadata": {},
   "outputs": [
    {
     "data": {
      "text/html": [
       "<link href='https://fonts.googleapis.com/css?family=Passion+One' rel='stylesheet' type='text/css'><style>div.attn { font-family: 'Helvetica Neue'; font-size: 30px; line-height: 40px; color: #FFFFFF; text-align: center; margin: 30px 0; border-width: 10px 0; border-style: solid; border-color: #5AAAAA; padding: 30px 0; background-color: #DDDDFF; }hr { border: 0; background-color: #ffffff; border-top: 1px solid black; }hr.major { border-top: 10px solid #5AAA5A; }hr.minor { border: none; background-color: #ffffff; border-top: 5px dotted #CC3333; }div.bubble { width: 65%; padding: 20px; background: #DDDDDD; border-radius: 15px; margin: 0 auto; font-style: italic; color: #f00; }em { color: #AAA; }div.c1{visibility:hidden;margin:0;height:0;}div.note{color:red;}</style>"
      ],
      "text/plain": [
       "<IPython.core.display.HTML object>"
      ]
     },
     "execution_count": 1,
     "metadata": {},
     "output_type": "execute_result"
    }
   ],
   "source": [
    "# Ebnable HTML/CSS \n",
    "from IPython.core.display import HTML\n",
    "HTML(\"<link href='https://fonts.googleapis.com/css?family=Passion+One' rel='stylesheet' type='text/css'><style>div.attn { font-family: 'Helvetica Neue'; font-size: 30px; line-height: 40px; color: #FFFFFF; text-align: center; margin: 30px 0; border-width: 10px 0; border-style: solid; border-color: #5AAAAA; padding: 30px 0; background-color: #DDDDFF; }hr { border: 0; background-color: #ffffff; border-top: 1px solid black; }hr.major { border-top: 10px solid #5AAA5A; }hr.minor { border: none; background-color: #ffffff; border-top: 5px dotted #CC3333; }div.bubble { width: 65%; padding: 20px; background: #DDDDDD; border-radius: 15px; margin: 0 auto; font-style: italic; color: #f00; }em { color: #AAA; }div.c1{visibility:hidden;margin:0;height:0;}div.note{color:red;}</style>\")"
   ]
  },
  {
   "cell_type": "markdown",
   "metadata": {},
   "source": [
    "## Lab Assignment Eight: Recurrent Network Architectures\n",
    "\n",
    "________________________________________________________________________________________________________\n",
    "* Name1: Simin Wang\n",
    "* Name2: Yibo Tang\n",
    "* Name3: Jingzhen Hu"
   ]
  },
  {
   "cell_type": "markdown",
   "metadata": {},
   "source": [
    "## Contents\n",
    "* <a href=\"#PO\">1. Preparation</a>\n",
    " * 1.1 Business Understanding\n",
    " * 1.2 Data Understanding and Pre-processing\n",
    " * 1.3 Metric Selection\n",
    " * 1.4 Data Splitting\n",
    " \n",
    " \n",
    "* <a href=\"#Modeling\">2. Modeling</a>\n",
    " * 2.1 Parameters Tuning for LSTM and GRU\n",
    " * 2.2 Comparison of Different Recurrent Networks\n",
    "\n",
    "\n",
    "* <a href=\"#ExceptionalWork\">3. Exceptional Work</a>\n",
    " \n",
    " \n",
    "* <a href=\"#References\">References</a>\n",
    "<a id=\"Loading\"></a>"
   ]
  },
  {
   "cell_type": "markdown",
   "metadata": {},
   "source": [
    "<a id=\"PO\"></a>\n",
    "## 1. Preparation"
   ]
  },
  {
   "cell_type": "markdown",
   "metadata": {},
   "source": [
    "### 1.1 Business Understanding\n",
    "\n",
    "\n",
    "#### Overview\n",
    "\n",
    "This Dataset is scraped from https://www.thenews.com.pk website. It has news articles from 2015 till date related to business and sports. It Contains the Heading of the particular Article, its content and its date. The content also contains the place from where the statement or Article was published.\n",
    "\n",
    "This dataset includes 2692 news documents in total which are labeled as \"text\", \"heading\" and \"Type of Article\". Text has the news article and the place where it was published from; Heading has text containing the heading of the news article; Type of Article has the type of articles: business or sports in this case. Words frequencies can be obtained from the text part, with which we will be able to predict which type a certain article belongs to.\n",
    "\n",
    "#### Motivations(Why our model is important)\n",
    "\n",
    "We now live in an era of information explosion and the digital revolution has changed the world a lot. According to MarketingProfs(http://www.marketingprofs.com/articles/2015/27698), more than 2 million news and articles are published every day on the web. Figuring out desired articles with a certain type is always a tough but necessary part of commercial activities. \n",
    "\n",
    "Our targeted customer, the stockbroker, one of whose main duties are stock of sports industries, collects thousands of news from relative fields and attempts to select business news for further analysis. For example, stockbrokers care more about the emergent or unexpected factors that leads to the negative or positive influence of a sports company like NBA rather than whether DAL wins LAL in a preseason match. They need business news since they have to assess the ability of management staff such that whether they can promote the popularity of the brand to more countries and they have a long-term sight or not. Sports news, definitely, could reveal the current success of the sports company if the matches, leagues or tournaments it organizes achieve a great attention and audience. \n",
    "\n",
    "Stockbrokers really need both types of information to conduct detailed analysis and then provide professional helps for the client institutions or investors, thus making their investments worthwhile in sports field. However, extracting news from websites like Yahoo, many of the news are not clearly classified and in some cases even without categorical tags, which brings a lot of inconvenience in data collection. Business news are very likely to get mixed up with lots of sports news. A strong desire emerges, which is to develop a method to tell business news and sports news apart and then select business news from those articles. Our model (or algorithm) after carefully training will be competent for this job.\n",
    "\n",
    "Furthermore, since our final goal is to select limited articles for manually analysis from tens of thousands of text documents, multi-time classifications will be needed with similar algorithm or model in practice. Also we could also make prediction on different datasets about different features and do nominal classification and even multinomial classifications.\n",
    "\n",
    "#### Business target (How well would your prediction algorithm need to perform to be considered useful?)\n",
    "\n",
    "Traditional way to do feature extraction on text data and select desired articles depends on manually operation. A high precision (nearly 100%) is guaranteed in this way but at a high cost of time and human resource. \n",
    "\n",
    "The success of our trained model, or in other way, the f1_score is measured to evaluate the learning outcome. Suppose we have a nicely trained algorithm; we will expect the response rate (f1_score) to be close to 100%. In the real project, we rarely have 100% success predictions, but we are to get it as close as we can. \n",
    "\n",
    "Community who uses our model and looks at the 95% overall success rate on identifying different classes of texts will consider the accuracy is \"close\" enough for manually selection. Any accuracies adjacent to this value will indicate that the algorithm is practically sound and useful."
   ]
  },
  {
   "cell_type": "markdown",
   "metadata": {},
   "source": [
    "### 1.2 Data Understanding and Pre-processing"
   ]
  },
  {
   "cell_type": "code",
   "execution_count": 2,
   "metadata": {},
   "outputs": [
    {
     "name": "stdout",
     "output_type": "stream",
     "text": [
      "************************************************************\n",
      "The categories include: \n",
      " {'sports', 'business'}\n",
      "************************************************************\n"
     ]
    },
    {
     "data": {
      "text/html": [
       "<div>\n",
       "<style>\n",
       "    .dataframe thead tr:only-child th {\n",
       "        text-align: right;\n",
       "    }\n",
       "\n",
       "    .dataframe thead th {\n",
       "        text-align: left;\n",
       "    }\n",
       "\n",
       "    .dataframe tbody tr th {\n",
       "        vertical-align: top;\n",
       "    }\n",
       "</style>\n",
       "<table border=\"1\" class=\"dataframe\">\n",
       "  <thead>\n",
       "    <tr style=\"text-align: right;\">\n",
       "      <th></th>\n",
       "      <th>NewsType</th>\n",
       "      <th>counts</th>\n",
       "    </tr>\n",
       "  </thead>\n",
       "  <tbody>\n",
       "    <tr>\n",
       "      <th>0</th>\n",
       "      <td>business</td>\n",
       "      <td>1284</td>\n",
       "    </tr>\n",
       "    <tr>\n",
       "      <th>1</th>\n",
       "      <td>sports</td>\n",
       "      <td>1408</td>\n",
       "    </tr>\n",
       "  </tbody>\n",
       "</table>\n",
       "</div>"
      ],
      "text/plain": [
       "   NewsType  counts\n",
       "0  business    1284\n",
       "1    sports    1408"
      ]
     },
     "execution_count": 2,
     "metadata": {},
     "output_type": "execute_result"
    }
   ],
   "source": [
    "import pandas as pd\n",
    "import numpy as np\n",
    "\n",
    "# read data from csv repository\n",
    "print('************************************************************')\n",
    "df_category = pd.read_csv('Articles.csv',encoding=\"ISO-8859-1\")\n",
    "\n",
    "print('The categories include: \\n', set(df_category['NewsType']))\n",
    "print('************************************************************')\n",
    "\n",
    "# then we show statistics of our dataset groupby classes\n",
    "df_category.groupby(['NewsType']).size().reset_index(name='counts')"
   ]
  },
  {
   "cell_type": "code",
   "execution_count": 3,
   "metadata": {},
   "outputs": [
    {
     "data": {
      "text/html": [
       "<div>\n",
       "<style>\n",
       "    .dataframe thead tr:only-child th {\n",
       "        text-align: right;\n",
       "    }\n",
       "\n",
       "    .dataframe thead th {\n",
       "        text-align: left;\n",
       "    }\n",
       "\n",
       "    .dataframe tbody tr th {\n",
       "        vertical-align: top;\n",
       "    }\n",
       "</style>\n",
       "<table border=\"1\" class=\"dataframe\">\n",
       "  <thead>\n",
       "    <tr style=\"text-align: right;\">\n",
       "      <th></th>\n",
       "      <th>Article</th>\n",
       "      <th>Date</th>\n",
       "      <th>Heading</th>\n",
       "      <th>NewsType</th>\n",
       "    </tr>\n",
       "  </thead>\n",
       "  <tbody>\n",
       "    <tr>\n",
       "      <th>0</th>\n",
       "      <td>KARACHI: The Sindh government has decided to b...</td>\n",
       "      <td>1/1/2015</td>\n",
       "      <td>sindh govt decides to cut public transport far...</td>\n",
       "      <td>business</td>\n",
       "    </tr>\n",
       "    <tr>\n",
       "      <th>1</th>\n",
       "      <td>HONG KONG: Asian markets started 2015 on an up...</td>\n",
       "      <td>1/2/2015</td>\n",
       "      <td>asia stocks up in new year trad</td>\n",
       "      <td>business</td>\n",
       "    </tr>\n",
       "    <tr>\n",
       "      <th>2</th>\n",
       "      <td>HONG KONG:  Hong Kong shares opened 0.66 perce...</td>\n",
       "      <td>1/5/2015</td>\n",
       "      <td>hong kong stocks open 0.66 percent lower</td>\n",
       "      <td>business</td>\n",
       "    </tr>\n",
       "    <tr>\n",
       "      <th>3</th>\n",
       "      <td>HONG KONG: Asian markets tumbled Tuesday follo...</td>\n",
       "      <td>1/6/2015</td>\n",
       "      <td>asian stocks sink euro near nine year</td>\n",
       "      <td>business</td>\n",
       "    </tr>\n",
       "    <tr>\n",
       "      <th>4</th>\n",
       "      <td>NEW YORK: US oil prices Monday slipped below $...</td>\n",
       "      <td>1/6/2015</td>\n",
       "      <td>us oil prices slip below 50 a barr</td>\n",
       "      <td>business</td>\n",
       "    </tr>\n",
       "  </tbody>\n",
       "</table>\n",
       "</div>"
      ],
      "text/plain": [
       "                                             Article      Date  \\\n",
       "0  KARACHI: The Sindh government has decided to b...  1/1/2015   \n",
       "1  HONG KONG: Asian markets started 2015 on an up...  1/2/2015   \n",
       "2  HONG KONG:  Hong Kong shares opened 0.66 perce...  1/5/2015   \n",
       "3  HONG KONG: Asian markets tumbled Tuesday follo...  1/6/2015   \n",
       "4  NEW YORK: US oil prices Monday slipped below $...  1/6/2015   \n",
       "\n",
       "                                             Heading  NewsType  \n",
       "0  sindh govt decides to cut public transport far...  business  \n",
       "1                    asia stocks up in new year trad  business  \n",
       "2           hong kong stocks open 0.66 percent lower  business  \n",
       "3             asian stocks sink euro near nine year   business  \n",
       "4                 us oil prices slip below 50 a barr  business  "
      ]
     },
     "execution_count": 3,
     "metadata": {},
     "output_type": "execute_result"
    }
   ],
   "source": [
    "df_category.head()"
   ]
  },
  {
   "cell_type": "markdown",
   "metadata": {},
   "source": [
    "We remove stopwords here and make our content of articles into a string list in order to convert them into a bad of word and to compute tf-idf later."
   ]
  },
  {
   "cell_type": "code",
   "execution_count": 4,
   "metadata": {},
   "outputs": [
    {
     "data": {
      "text/plain": [
       "['karachi sindh government decided bring public transport fares per cent due massive reduction petroleum product prices federal government geo news reported sources said reduction fares applicable public transport rickshaw taxi means traveling meanwhile karachi transport ittehad kti refused abide government decision kti president irshad bukhari said commuters charged lowest fares karachi compare parts country adding pc vehicles run compressed natural gas cng bukhari said karachi transporters cut fares decrease cng prices made ',\n",
       " 'hong kong asian markets started upswing limited trading friday mainland chinese stocks surging hong kong speculation beijing may ease monetary policy boost slowing growth hong kong rose percent closing points higher seoul closed percent rising points sydney gained percent points close singapore edged percent gaining points markets mainland china japan taiwan new zealand philippines thailand remained closed holidays mainland bourses shut january shares chinese developers financial companies surged hong kong stoked hopes beijing could ease monetary policy support lagging growth world second largest economy china vanke country biggest developer sales leapt percent people insurance company group china ltd percent afternoon trading train builders csr corp china cnr corp soared csr percent china cnr percent extending gains december announced merger agreement china manufacturing growth dropped december lowest level official survey showed thursday sector struggles weak domestic demand china official purchasing managers index pmi released national bureau statistics nbs came last month recorded november index tracks activity factories workshops considered key indicator health china economy major driver global growth figure signals expansion anything indicates contraction growth momentum still insufficient nbs said statement investors eye us factory data forex markets dollar extended gains ahead release american factory data due later friday following steady stream good news world biggest economy dollar bought yen compared yen final trading wednesday wall street toasted banner year us equity markets finishing near time highs euro meanwhile slipped amid growing expectations european central bank meets january start buying sovereign bonds single currency bought compared pre holiday trade ecb already used several tools push inflation member nations back percent annual rate regards healthy including asset purchases making cheap loans available banks also examining possibility large scale purchases sovereign debt called quantitative easing qe help jump start european union moribund economy oil prices rose friday us benchmark west texas intermediate february delivery rising cents brent crude february gaining cents gains asian trading likely positive us crude stockpiles data released wednesday daniel ang investment analyst phillip futures singapore told afp us crude reserves fell million barrels week december us energy information administration said last petroleum report released wednesday boosting prices lost nearly half value second half year growing speculation slide global oil prices biggest since financial crisis may excessive see supply side responses even anticipated course first quarter year might find oil fact bottomed michael mccarthy chief strategist cmc markets sydney told bloomberg gold ounce compared end year trading wednesday markets jakarta ended percent points coal firm indo tambangraya megah gained percent rupiah miner aneka tambang slipped percent rupiah malaysia main stock index shed percent points close malayan banking lost percent ringgit public bank slipped percent top globe added percent ringgit singapore rose percent points agribusiness company wilmar international gained percent sg real estate developer capitaland dipped percent sg mumbai gained percent points end housing development finance corp rose percent rupees mahindra mahindra fell percent rupees afp ',\n",
       " 'hong kong hong kong shares opened percent lower monday following tepid lead wall street first full week new year kicked benchmark hang seng index dipped points ']"
      ]
     },
     "execution_count": 4,
     "metadata": {},
     "output_type": "execute_result"
    }
   ],
   "source": [
    "import nltk\n",
    "import re\n",
    "from nltk.corpus import stopwords\n",
    "\n",
    "summary_text = []\n",
    "for index in range(0,df_category['Article'].count()):\n",
    "    voc = re.sub('[^a-zA-Z]+', ' ', df_category[\"Article\"][index]).lower()\n",
    "    \n",
    "    for word in stopwords.words('english'): # iterate over word_list\n",
    "        voc = re.sub('\\s{0}\\s'.format(word), ' ', voc) \n",
    "    df_category[\"Article\"][index] = voc\n",
    "    summary_text.append(voc)\n",
    "\n",
    "summary_text[0:3] # print the first three articles"
   ]
  },
  {
   "cell_type": "code",
   "execution_count": 5,
   "metadata": {
    "collapsed": true
   },
   "outputs": [],
   "source": [
    "categories = ['business', 'sports']\n",
    "df = df_category.copy()\n",
    "\n",
    "#Convert NewType to numeric type: 0 represents business, 1 represents sports\n",
    "df_category.NewsType.replace(to_replace = categories,\n",
    "                 value = range(0,2), inplace = True)"
   ]
  },
  {
   "cell_type": "code",
   "execution_count": 6,
   "metadata": {},
   "outputs": [
    {
     "data": {
      "text/html": [
       "<div>\n",
       "<style>\n",
       "    .dataframe thead tr:only-child th {\n",
       "        text-align: right;\n",
       "    }\n",
       "\n",
       "    .dataframe thead th {\n",
       "        text-align: left;\n",
       "    }\n",
       "\n",
       "    .dataframe tbody tr th {\n",
       "        vertical-align: top;\n",
       "    }\n",
       "</style>\n",
       "<table border=\"1\" class=\"dataframe\">\n",
       "  <thead>\n",
       "    <tr style=\"text-align: right;\">\n",
       "      <th></th>\n",
       "      <th>Article</th>\n",
       "      <th>Date</th>\n",
       "      <th>Heading</th>\n",
       "      <th>NewsType</th>\n",
       "    </tr>\n",
       "  </thead>\n",
       "  <tbody>\n",
       "    <tr>\n",
       "      <th>0</th>\n",
       "      <td>karachi sindh government decided bring public ...</td>\n",
       "      <td>1/1/2015</td>\n",
       "      <td>sindh govt decides to cut public transport far...</td>\n",
       "      <td>0</td>\n",
       "    </tr>\n",
       "    <tr>\n",
       "      <th>1</th>\n",
       "      <td>hong kong asian markets started upswing limite...</td>\n",
       "      <td>1/2/2015</td>\n",
       "      <td>asia stocks up in new year trad</td>\n",
       "      <td>0</td>\n",
       "    </tr>\n",
       "    <tr>\n",
       "      <th>2</th>\n",
       "      <td>hong kong hong kong shares opened percent lowe...</td>\n",
       "      <td>1/5/2015</td>\n",
       "      <td>hong kong stocks open 0.66 percent lower</td>\n",
       "      <td>0</td>\n",
       "    </tr>\n",
       "    <tr>\n",
       "      <th>3</th>\n",
       "      <td>hong kong asian markets tumbled tuesday follow...</td>\n",
       "      <td>1/6/2015</td>\n",
       "      <td>asian stocks sink euro near nine year</td>\n",
       "      <td>0</td>\n",
       "    </tr>\n",
       "    <tr>\n",
       "      <th>4</th>\n",
       "      <td>new york us oil prices monday slipped barrel f...</td>\n",
       "      <td>1/6/2015</td>\n",
       "      <td>us oil prices slip below 50 a barr</td>\n",
       "      <td>0</td>\n",
       "    </tr>\n",
       "  </tbody>\n",
       "</table>\n",
       "</div>"
      ],
      "text/plain": [
       "                                             Article      Date  \\\n",
       "0  karachi sindh government decided bring public ...  1/1/2015   \n",
       "1  hong kong asian markets started upswing limite...  1/2/2015   \n",
       "2  hong kong hong kong shares opened percent lowe...  1/5/2015   \n",
       "3  hong kong asian markets tumbled tuesday follow...  1/6/2015   \n",
       "4  new york us oil prices monday slipped barrel f...  1/6/2015   \n",
       "\n",
       "                                             Heading  NewsType  \n",
       "0  sindh govt decides to cut public transport far...         0  \n",
       "1                    asia stocks up in new year trad         0  \n",
       "2           hong kong stocks open 0.66 percent lower         0  \n",
       "3             asian stocks sink euro near nine year          0  \n",
       "4                 us oil prices slip below 50 a barr         0  "
      ]
     },
     "execution_count": 6,
     "metadata": {},
     "output_type": "execute_result"
    }
   ],
   "source": [
    "df_category.head()"
   ]
  },
  {
   "cell_type": "code",
   "execution_count": 7,
   "metadata": {},
   "outputs": [
    {
     "name": "stderr",
     "output_type": "stream",
     "text": [
      "Using TensorFlow backend.\n"
     ]
    }
   ],
   "source": [
    "import keras\n",
    "from keras.preprocessing.text import Tokenizer\n",
    "from keras.preprocessing.sequence import pad_sequences"
   ]
  },
  {
   "cell_type": "code",
   "execution_count": 8,
   "metadata": {},
   "outputs": [
    {
     "name": "stdout",
     "output_type": "stream",
     "text": [
      "Found 25423 unique tokens. Distilled to 25423 top words.\n",
      "Shape of data tensor: (2692, 200)\n",
      "Shape of label tensor: (2692, 2)\n",
      "25423\n"
     ]
    }
   ],
   "source": [
    "NUM_TOP_WORDS = None\n",
    "MAX_ART_LEN = 200 # maximum and minimum number of words\n",
    "\n",
    "tokenizer = Tokenizer(num_words=NUM_TOP_WORDS)\n",
    "tokenizer.fit_on_texts(summary_text)\n",
    "sequences = tokenizer.texts_to_sequences(summary_text)\n",
    "\n",
    "word_index = tokenizer.word_index\n",
    "NUM_TOP_WORDS = len(word_index) if NUM_TOP_WORDS==None else NUM_TOP_WORDS\n",
    "top_words = min((len(word_index),NUM_TOP_WORDS))\n",
    "print('Found %s unique tokens. Distilled to %d top words.' % (len(word_index),top_words))\n",
    "\n",
    "X = pad_sequences(sequences, maxlen=MAX_ART_LEN)\n",
    "\n",
    "y_ohe = keras.utils.to_categorical(df_category.NewsType)\n",
    "print('Shape of data tensor:', X.shape)\n",
    "print('Shape of label tensor:', y_ohe.shape)\n",
    "print(np.max(X))"
   ]
  },
  {
   "cell_type": "markdown",
   "metadata": {},
   "source": [
    "### 1.3 Metric Selection"
   ]
  },
  {
   "cell_type": "code",
   "execution_count": 9,
   "metadata": {},
   "outputs": [
    {
     "data": {
      "image/png": "[encoded data removed]",
      "text/plain": [
       "<matplotlib.figure.Figure at 0x11582a0f0>"
      ]
     },
     "metadata": {},
     "output_type": "display_data"
    }
   ],
   "source": [
    "import matplotlib.pyplot as plt\n",
    "import warnings\n",
    "warnings.simplefilter('ignore', DeprecationWarning)\n",
    "%matplotlib inline \n",
    "plt.style.use('seaborn-whitegrid')\n",
    "\n",
    "df.groupby(['NewsType']).NewsType.count().plot(kind = 'bar')\n",
    "plt.show()"
   ]
  },
  {
   "cell_type": "markdown",
   "metadata": {},
   "source": [
    "As illustrated from the above figure, our text dataset doesn't suffer greatly by the class imbalance problems. There are only 124 instances deficiency between business and sports when they both have over 1000 instances.\n",
    "\n",
    "However, we do care about the false negatives of our dataset. For example, when our model fails to recognize all the articles of sports and business, it's highly possible that stockbrokers miss some important clues that affect the final decision. Therefore, it could bring severe consequences, such as investment failure, thus losing customers and damaging their reputation. On the other hand, the false positives could affect the overall performance when both categories are misclassified for each other, especially when they try to reach the 95% precision target. Consequently, the precision and recall measure are indispensable to our evaluation metrics.\n",
    "\n",
    "Considering the necessity of precision and recall, we should not use the normal accuracy as evaluation metric (the cost of misclassification for the small sized target class will be overlooked). F1 score considers both the precision and recall. As the higher precision, the lower false positive. As the higher the recall, the lower the false negative. Then, to minimize the both the false postive and false negative, we need a higher F1 score which is built to treat the precision and recall equally in the following equation.\n",
    "$$F_1 = \\frac{2rp}{r+p}$$\n",
    "Thus, F1 score is a better choice for the dataset than the accuracy. \n",
    "Inside the F1 score measurement, there are two different ways (for nonbinary classification case) to deal among k classes - micro and macro options. As our case only involves two classes, the result of macro and micro f1 scores should be the same. Due to no difference, we just choose the 'binary' option to use the standard f1 function later in the test phrase.\n",
    "\n",
    "In conclusion, macro f1 measure that takes both precision and recall into account should be our evaluation metric."
   ]
  },
  {
   "cell_type": "code",
   "execution_count": 10,
   "metadata": {
    "collapsed": true
   },
   "outputs": [],
   "source": [
    "from keras import backend as K\n",
    "def f1_score(y_true, y_pred):\n",
    "    \n",
    "    # Count positive samples.\n",
    "    y_true_clipped = K.cast(x=K.clip(y_true, 0, 1)>0.5,dtype='float32')\n",
    "    y_pred_clipped = K.cast(x=K.clip(y_pred, 0, 1)>0.5,dtype='float32')\n",
    "    a = K.sum(y_true_clipped*y_pred_clipped,axis=1)\n",
    "    b = K.sum(y_true_clipped*(1-y_pred_clipped),axis=1)\n",
    "    c = K.sum((1-y_true_clipped)*y_pred_clipped,axis=1)\n",
    "    \n",
    "    \n",
    "    return K.mean(2*a/(2*a+b+c))"
   ]
  },
  {
   "cell_type": "markdown",
   "metadata": {},
   "source": [
    "### 1.4 Data Splitting"
   ]
  },
  {
   "cell_type": "markdown",
   "metadata": {},
   "source": [
    "Since our case does not suffer the imbalance, ShuffleSplit cross-validator is a great choice. This cross-validation object returns randomized folds. Since the number of news in each classes are similar, the folds are not necessarily to be made by preserving the percentage of samples for each class. Suffling splits can avoid the situation that the data is ordered by the types, which will lead to one fold consist of only one type of news. In addition, we would like to see the generalized overall performance of our dataset rather than one-time randomized split. Meanwhile, as the text dataset is not as big as the image one, we choose the fold number to be as usual as 10. \n",
    "\n",
    "Note: here to choose SuffleSplit is corresponding to the specific dataset we have. If we would like to have a more generalized model (possible to deal with imbalance classes), the SatifiedShuffleSplit is a good option. However, the Satified process (preserving the percentage of samples for each class) will be an extra/redundant operation (inefficient) in our specific balanced dataset. "
   ]
  },
  {
   "cell_type": "code",
   "execution_count": 11,
   "metadata": {
    "collapsed": true
   },
   "outputs": [],
   "source": [
    "import keras\n",
    "from keras.models import Sequential, Input, Model\n",
    "from keras.layers import Dense\n",
    "from keras.layers import LSTM, GRU, SimpleRNN\n",
    "from keras.layers.embeddings import Embedding\n",
    "from sklearn import metrics as mt\n",
    "from sklearn.metrics import f1_score as f1\n",
    "\n",
    "NUM_CLASSES = 2"
   ]
  },
  {
   "cell_type": "code",
   "execution_count": 12,
   "metadata": {},
   "outputs": [
    {
     "name": "stdout",
     "output_type": "stream",
     "text": [
      "The shape of X_train: (2153, 200)\n",
      "The shape of X_test: (539, 200)\n",
      "The shape of X: (2692, 200)\n"
     ]
    }
   ],
   "source": [
    "from sklearn.model_selection import StratifiedShuffleSplit\n",
    "    \n",
    "# split our data into train and test sets using StratifiedShuffleSplit\n",
    "cv_outerloop = StratifiedShuffleSplit(n_splits = 10, test_size  = 0.2, random_state = 42)\n",
    "\n",
    "for train_index, test_index in cv_outerloop.split(X, y_ohe):\n",
    "    X_train, X_test = X[train_index], X[test_index]\n",
    "    y_train_ohe, y_test_ohe = y_ohe[train_index], y_ohe[test_index]\n",
    "\n",
    "print('The shape of X_train:',X_train.shape)\n",
    "print('The shape of X_test:',X_test.shape)\n",
    "print('The shape of X:',X.shape)"
   ]
  },
  {
   "cell_type": "markdown",
   "metadata": {},
   "source": [
    "<a id=\"Modeling\"></a>\n",
    "## 2. Modeling"
   ]
  },
  {
   "cell_type": "markdown",
   "metadata": {},
   "source": [
    "### 2.1 Parameters Tuning for LSTM and GRU"
   ]
  },
  {
   "cell_type": "code",
   "execution_count": 13,
   "metadata": {},
   "outputs": [
    {
     "name": "stdout",
     "output_type": "stream",
     "text": [
      "Found 400000 word vectors.\n",
      "(25424, 100)\n",
      "CPU times: user 12.7 s, sys: 350 ms, total: 13 s\n",
      "Wall time: 13.2 s\n"
     ]
    }
   ],
   "source": [
    "%%time\n",
    "EMBED_SIZE = 100\n",
    "# the embed size should match the file you load glove from\n",
    "embeddings_index = {}\n",
    "f = open('glove.6B/glove.6B.100d.txt')\n",
    "# save key/array pairs of the embeddings\n",
    "#  the key of the dictionary is the word, the array is the embedding\n",
    "for line in f:\n",
    "    values = line.split()\n",
    "    word = values[0]\n",
    "    coefs = np.asarray(values[1:], dtype='float32')\n",
    "    embeddings_index[word] = coefs\n",
    "f.close()\n",
    "\n",
    "print('Found %s word vectors.' % len(embeddings_index))\n",
    "\n",
    "# now fill in the matrix, using the ordering from the\n",
    "#  keras word tokenizer from before\n",
    "embedding_matrix = np.zeros((len(word_index) + 1, EMBED_SIZE))\n",
    "for word, i in word_index.items():\n",
    "    embedding_vector = embeddings_index.get(word)\n",
    "    if embedding_vector is not None:\n",
    "        # words not found in embedding index will be all-zeros.\n",
    "        embedding_matrix[i] = embedding_vector\n",
    "\n",
    "print(embedding_matrix.shape)"
   ]
  },
  {
   "cell_type": "code",
   "execution_count": 31,
   "metadata": {
    "collapsed": true
   },
   "outputs": [],
   "source": [
    "embedding_layer = Embedding(len(word_index) + 1,\n",
    "                            EMBED_SIZE,\n",
    "                            weights=[embedding_matrix],\n",
    "                            input_length=MAX_ART_LEN,\n",
    "                            trainable=False)"
   ]
  },
  {
   "cell_type": "code",
   "execution_count": 61,
   "metadata": {
    "collapsed": true
   },
   "outputs": [],
   "source": [
    "def plot_filled(test_scores, train_x_axis, xlabel=''):\n",
    "    test_mean = np.mean(test_scores, axis=1)\n",
    "    test_std = np.std(test_scores, axis=1)\n",
    "\n",
    "    plt.plot(train_x_axis, test_mean,\n",
    "             color='blue', marker='o',\n",
    "             markersize=5, label='Linear F1_score')\n",
    "\n",
    "    plt.fill_between(train_x_axis,\n",
    "                     test_mean + test_std,\n",
    "                     test_mean - test_std,\n",
    "                     alpha=0.15, color='blue')\n",
    "\n",
    "    plt.grid()\n",
    "    plt.xlabel(xlabel)\n",
    "    plt.ylabel('F1_score')\n",
    "    plt.legend(loc='lower right')\n",
    "    plt.tight_layout()"
   ]
  },
  {
   "cell_type": "markdown",
   "metadata": {},
   "source": [
    "#### LSTM"
   ]
  },
  {
   "cell_type": "code",
   "execution_count": 59,
   "metadata": {},
   "outputs": [
    {
     "name": "stdout",
     "output_type": "stream",
     "text": [
      "_________________________________________________________________\n",
      "Layer (type)                 Output Shape              Param #   \n",
      "=================================================================\n",
      "embedding_6 (Embedding)      (None, 200, 100)          2542400   \n",
      "_________________________________________________________________\n",
      "lstm_20 (LSTM)               (None, 100)               80400     \n",
      "_________________________________________________________________\n",
      "dense_23 (Dense)             (None, 2)                 202       \n",
      "=================================================================\n",
      "Total params: 2,623,002\n",
      "Trainable params: 80,602\n",
      "Non-trainable params: 2,542,400\n",
      "_________________________________________________________________\n",
      "None\n"
     ]
    }
   ],
   "source": [
    "def create_LSTM(embedding_layer, size = 100, drop = 0.2, re_drop = 0.2):\n",
    "    rnn = Sequential()\n",
    "    rnn.add(embedding_layer)\n",
    "    rnn.add(LSTM(units = size, dropout = drop, recurrent_dropout = re_drop))\n",
    "    rnn.add(Dense(NUM_CLASSES, activation='sigmoid'))\n",
    "    rnn.compile(loss='categorical_crossentropy', \n",
    "              optimizer='rmsprop', \n",
    "              metrics=[f1_score])\n",
    "    return rnn\n",
    "\n",
    "print(create_LSTM(embedding_layer).summary())"
   ]
  },
  {
   "cell_type": "code",
   "execution_count": 53,
   "metadata": {
    "collapsed": true
   },
   "outputs": [],
   "source": [
    "val_scores = []\n",
    "for drop in np.arange(0.1, 0.9, 0.1):\n",
    "    rnn_lstm = create_LSTM(embedding_layer, drop = drop, re_drop = drop)\n",
    "\n",
    "    history = rnn_lstm.fit(X_train, y_train_ohe, epochs = 5, \n",
    "                       batch_size=64, validation_data=(X_test, y_test_ohe), verbose = 0)\n",
    "    val_scores.append(history.history.get('val_f1_score'))"
   ]
  },
  {
   "cell_type": "code",
   "execution_count": 69,
   "metadata": {
    "scrolled": false
   },
   "outputs": [
    {
     "data": {
      "image/png": "[encoded data removed]",
      "text/plain": [
       "<matplotlib.figure.Figure at 0x14929fb70>"
      ]
     },
     "metadata": {},
     "output_type": "display_data"
    }
   ],
   "source": [
    "plot_filled(val_scores, np.arange(0.1, 0.9, 0.1), 'dropout and recurrent_dropout')"
   ]
  },
  {
   "cell_type": "markdown",
   "metadata": {},
   "source": [
    "We compare 8 different values of dropout and recurrent_dropout for the LSTM, change them synchronously based on their results evaluated by our selected f1 metric. According to the curve, the best parameter values of dropout and recurrent_dropout is 0.3 (high f1 score around 0.99 with a low variance around 0.0001). The dropout value 0.6 looks like a threshold that less than - a relatively stable (low variance) with high f1 scores. A more appropriate interval for both the dropout value and recurrent_dropout is between 0.3 and 0.6. The existence of dropout aims to reduce the probability of overfitting and enhance the efficiency. Then, a middle range of the dropout give a good usage of training data. We choose a fixed dropout values - 0.3 and tune the next parameter - a number of rows(neurons)."
   ]
  },
  {
   "cell_type": "code",
   "execution_count": 60,
   "metadata": {
    "collapsed": true
   },
   "outputs": [],
   "source": [
    "val_scores2 = []\n",
    "for size in np.arange(60, 140, 20):\n",
    "    rnn_lstm = create_LSTM(embedding_layer, size = size, drop = 0.3, re_drop = 0.3)\n",
    "\n",
    "    history = rnn_lstm.fit(X_train, y_train_ohe, epochs = 5, \n",
    "                       batch_size=64, validation_data=(X_test, y_test_ohe), verbose = 0)\n",
    "    val_scores2.append(history.history.get('val_f1_score'))"
   ]
  },
  {
   "cell_type": "code",
   "execution_count": 70,
   "metadata": {
    "scrolled": false
   },
   "outputs": [
    {
     "data": {
      "image/png": "[encoded data removed]",
      "text/plain": [
       "<matplotlib.figure.Figure at 0x14abdb978>"
      ]
     },
     "metadata": {},
     "output_type": "display_data"
    }
   ],
   "source": [
    "plot_filled(val_scores2, np.arange(60, 140, 20), 'Dimensionality of the output space')"
   ]
  },
  {
   "cell_type": "markdown",
   "metadata": {},
   "source": [
    "The tuning curve of the dimensionality of the out space shows that a reasonable interval is between 80 and 100 with a high f1 score around 0.99 and variance around 0.005 - stable bands wrap a segment. The complement of the interval has a similar pattern - low and unstable f1 score. Thus, we choose the value 80 since it is a slightly stable (narrower band) variance in the plot."
   ]
  },
  {
   "cell_type": "markdown",
   "metadata": {},
   "source": [
    "#### GRU"
   ]
  },
  {
   "cell_type": "code",
   "execution_count": 16,
   "metadata": {},
   "outputs": [
    {
     "name": "stdout",
     "output_type": "stream",
     "text": [
      "_________________________________________________________________\n",
      "Layer (type)                 Output Shape              Param #   \n",
      "=================================================================\n",
      "embedding_1 (Embedding)      (None, 200, 100)          2542400   \n",
      "_________________________________________________________________\n",
      "gru_1 (GRU)                  (None, 100)               60300     \n",
      "_________________________________________________________________\n",
      "dense_1 (Dense)              (None, 2)                 202       \n",
      "=================================================================\n",
      "Total params: 2,602,902\n",
      "Trainable params: 2,602,902\n",
      "Non-trainable params: 0\n",
      "_________________________________________________________________\n",
      "None\n"
     ]
    }
   ],
   "source": [
    "def create_GRU(embedding_layer, size = 100, drop = 0.2, re_drop = 0.2):\n",
    "    rnn = Sequential()\n",
    "    rnn.add(embedding_layer)\n",
    "    rnn.add(GRU(units = size, dropout = drop, recurrent_dropout = re_drop))\n",
    "    rnn.add(Dense(NUM_CLASSES, activation='sigmoid'))\n",
    "    rnn.compile(loss='categorical_crossentropy', \n",
    "              optimizer='rmsprop', \n",
    "              metrics=[f1_score])\n",
    "    return rnn\n",
    "\n",
    "print(create_GRU(embedding_layer).summary())"
   ]
  },
  {
   "cell_type": "code",
   "execution_count": 72,
   "metadata": {
    "collapsed": true
   },
   "outputs": [],
   "source": [
    "val_scores3 = []\n",
    "for drop in np.arange(0.1, 0.9, 0.1):\n",
    "    rnn_gru = create_GRU(embedding_layer, drop = drop, re_drop = drop)\n",
    "\n",
    "    history = rnn_gru.fit(X_train, y_train_ohe, epochs = 5, \n",
    "                       batch_size=64, validation_data=(X_test, y_test_ohe), verbose = 0)\n",
    "    val_scores3.append(history.history.get('val_f1_score'))"
   ]
  },
  {
   "cell_type": "code",
   "execution_count": 73,
   "metadata": {
    "scrolled": true
   },
   "outputs": [
    {
     "data": {
      "image/png": "[encoded data removed]",
      "text/plain": [
       "<matplotlib.figure.Figure at 0x14abf3908>"
      ]
     },
     "metadata": {},
     "output_type": "display_data"
    }
   ],
   "source": [
    "plot_filled(val_scores3, np.arange(0.1, 0.9, 0.1), 'dropout and recurrent_dropout')"
   ]
  },
  {
   "cell_type": "markdown",
   "metadata": {},
   "source": [
    "Same procedure for the GRU but the curve has a totally different pattern. With a smaller dropout values, the result has a higher f1 score with a low variance. The result shows that it is not quite necessary to include the dropout - possible because the original model does not involve much overfitting, it needs the data. However, with the 0.1 dropout, the f1 score approaches to 1 closely with a nearly zero variance - perfect. We choose 0.1 and tune the number of neurons."
   ]
  },
  {
   "cell_type": "code",
   "execution_count": 74,
   "metadata": {
    "collapsed": true
   },
   "outputs": [],
   "source": [
    "val_scores4 = []\n",
    "for size in np.arange(60, 140, 20):\n",
    "    rnn_gru = create_GRU(embedding_layer, size = size, drop = 0.1, re_drop = 0.1)\n",
    "\n",
    "    history = rnn_gru.fit(X_train, y_train_ohe, epochs = 5, \n",
    "                       batch_size=64, validation_data=(X_test, y_test_ohe), verbose = 0)\n",
    "    val_scores4.append(history.history.get('val_f1_score'))"
   ]
  },
  {
   "cell_type": "code",
   "execution_count": 75,
   "metadata": {},
   "outputs": [
    {
     "data": {
      "image/png": "[encoded data removed]",
      "text/plain": [
       "<matplotlib.figure.Figure at 0x156727b00>"
      ]
     },
     "metadata": {},
     "output_type": "display_data"
    }
   ],
   "source": [
    "plot_filled(val_scores4, np.arange(60, 140, 20), 'Dimensionality of the output space')"
   ]
  },
  {
   "cell_type": "markdown",
   "metadata": {},
   "source": [
    "As the pattern of dropout tuning curve is different from that of LSTM, the tuning curve of dimensionality of the output space in GRU is expected to be different as well. The curve above has a totally opposite trend of that of dropout in GRU. As the increasing of the dimensionality of the output space, the f1 score become higher with lower variance. With a fixed dropout value - 0.3, we see that increase of the number/size of filters will lead to a good result. It is possible the original GRU model avoid the overfitting problem very well so it need to make the model complex enough to learn from the training data."
   ]
  },
  {
   "cell_type": "markdown",
   "metadata": {},
   "source": [
    "### 2.2 Comparison of Different Recurrent Networks"
   ]
  },
  {
   "cell_type": "code",
   "execution_count": 82,
   "metadata": {
    "collapsed": true
   },
   "outputs": [],
   "source": [
    "scores1 = []\n",
    "y_test_lstm = []\n",
    "yhat_lstm = []\n",
    "\n",
    "for train_index, test_index in cv_outerloop.split(X, y_ohe):\n",
    "    X_train, X_test = X[train_index], X[test_index]\n",
    "    y_train_ohe, y_test_ohe = y_ohe[train_index], y_ohe[test_index]\n",
    "    \n",
    "    rnn_lstm = create_LSTM(embedding_layer, size = 80, drop = 0.3, re_drop = 0.3)\n",
    "    rnn_lstm.fit(X_train, y_train_ohe, epochs = 5, batch_size=64, verbose = 0)\n",
    "\n",
    "    yhat = np.argmax(rnn_lstm.predict(X_test),axis=1)\n",
    "    \n",
    "    scores1.append(f1(np.argmax(y_test_ohe,axis=1), yhat))\n",
    "    \n",
    "    for val in zip(y_test_ohe, yhat):\n",
    "        yhat_lstm.append(val[1])\n",
    "        y_test_lstm.append(val[0])"
   ]
  },
  {
   "cell_type": "code",
   "execution_count": 84,
   "metadata": {
    "collapsed": true
   },
   "outputs": [],
   "source": [
    "scores2 = []\n",
    "y_test_gru = []\n",
    "yhat_gru = []\n",
    "\n",
    "for train_index, test_index in cv_outerloop.split(X, y_ohe):\n",
    "    X_train, X_test = X[train_index], X[test_index]\n",
    "    y_train_ohe, y_test_ohe = y_ohe[train_index], y_ohe[test_index]\n",
    "    \n",
    "    rnn_gru = create_GRU(embedding_layer, size = 120, drop = 0.1, re_drop = 0.1)\n",
    "    rnn_gru.fit(X_train, y_train_ohe, epochs = 5, batch_size=64, verbose = 0)\n",
    "    yhat = np.argmax(rnn_gru.predict(X_test),axis=1)\n",
    "    \n",
    "    scores2.append(f1(np.argmax(y_test_ohe,axis=1), yhat))\n",
    "    \n",
    "    for val in zip(y_test_ohe, yhat):\n",
    "        yhat_gru.append(val[1])\n",
    "        y_test_gru.append(val[0])"
   ]
  },
  {
   "cell_type": "code",
   "execution_count": 86,
   "metadata": {
    "scrolled": false
   },
   "outputs": [
    {
     "name": "stdout",
     "output_type": "stream",
     "text": [
      "95% CI for the mean F1_score for LSTM is 0.98997070004 +- 0.00627035422783\n",
      "95% CI for the mean F1_score for GRU is 0.99448297274 +- 0.00165231341032\n"
     ]
    },
    {
     "data": {
      "image/png": "[encoded data removed]",
      "text/plain": [
       "<matplotlib.figure.Figure at 0x180683828>"
      ]
     },
     "metadata": {},
     "output_type": "display_data"
    }
   ],
   "source": [
    "lstm_score = np.array(scores1)\n",
    "print('95% CI for the mean F1_score for LSTM is', lstm_score.mean(), '+-', 2.26/10**0.5*lstm_score.std())\n",
    "gru_score = np.array(scores2)\n",
    "print('95% CI for the mean F1_score for GRU is', gru_score.mean(), '+-', 2.26/10**0.5*gru_score.std())\n",
    "\n",
    "plt.figure(figsize= (15,8))\n",
    "plt.plot(lstm_score, label='LSTM', linestyle = '--')\n",
    "plt.plot(gru_score, label='GRU', linestyle='-.', marker='o')\n",
    "plt.legend(loc='best')\n",
    "plt.title('f1_score of LSTM and GRU')\n",
    "plt.xlabel('CV')\n",
    "plt.ylabel('f1_score')\n",
    "plt.show()"
   ]
  },
  {
   "cell_type": "markdown",
   "metadata": {},
   "source": [
    "From the overall performance, the GRU model achieves a higher f1 score with a lower variance but both of them did a very good job! Their f1 scores approach to 1 to some degree. In specific, the LSTM has a mean f1 score at 0.990 with around 2.5% fluctuation while GRU has a mean f1 at 0.995 with around 0.5% fluctuation. It seems that GRU did better than LSTM but we still need to do a statistical test to see whether they perform differently."
   ]
  },
  {
   "cell_type": "code",
   "execution_count": 87,
   "metadata": {},
   "outputs": [
    {
     "name": "stdout",
     "output_type": "stream",
     "text": [
      "95% confidence Interval for \"f1_dif\": -0.0108261207301 0.00180157533078\n"
     ]
    }
   ],
   "source": [
    "#to calculate the difference between two F-1 scores and get its CI\n",
    "lstm_gru_dif = lstm_score - gru_score\n",
    "\n",
    "print('95% confidence Interval for \"f1_dif\":',np.mean(lstm_gru_dif)-2.26/10**0.5*np.std(lstm_gru_dif),\n",
    "                                              np.mean(lstm_gru_dif)+2.26/10**0.5*np.std(lstm_gru_dif))"
   ]
  },
  {
   "cell_type": "markdown",
   "metadata": {},
   "source": [
    "As the zero is include the 95% confidence interval, then we are 95% certain that the GRU and LSTM are the same."
   ]
  },
  {
   "cell_type": "code",
   "execution_count": 96,
   "metadata": {},
   "outputs": [
    {
     "data": {
      "image/png": "[encoded data removed]",
      "text/plain": [
       "<matplotlib.figure.Figure at 0x181cac9e8>"
      ]
     },
     "metadata": {},
     "output_type": "display_data"
    }
   ],
   "source": [
    "categories = ['business','sports']\n",
    "categories_y = ['sports', 'business']\n",
    "\n",
    "plt.figure(figsize=(10,4))\n",
    "\n",
    "f1_lstm = f1(np.argmax(y_test_lstm,axis=1), yhat_lstm)\n",
    "plt.subplot(1,2,1)\n",
    "cm = mt.confusion_matrix(np.argmax(y_test_lstm,axis=1), yhat_lstm)\n",
    "cm = cm/np.sum(cm,axis=1)[:,np.newaxis]\n",
    "sns.heatmap(cm,annot=True, fmt='.2f')\n",
    "plt.title('LSTM: '+ str(f1_lstm))\n",
    "tick_marks = np.arange(0.5, 2)\n",
    "plt.xticks(tick_marks, categories, rotation = 0)\n",
    "plt.yticks(tick_marks, categories_y, rotation = 0)\n",
    "\n",
    "f1_gru = f1(np.argmax(y_test_gru,axis=1), yhat_gru)\n",
    "plt.subplot(1,2,2)\n",
    "cm = mt.confusion_matrix(np.argmax(y_test_gru,axis=1), yhat_gru)\n",
    "cm = cm/np.sum(cm,axis=1)[:,np.newaxis]\n",
    "sns.heatmap(cm,annot=True, fmt='.2f')\n",
    "plt.title('GRU: '+ str(f1_gru))\n",
    "tick_marks = np.arange(0.5, 2)\n",
    "plt.xticks(tick_marks, categories, rotation = 0)\n",
    "plt.yticks(tick_marks, categories_y, rotation = 0)\n",
    "plt.tight_layout()\n",
    "plt.show()"
   ]
  },
  {
   "cell_type": "markdown",
   "metadata": {},
   "source": [
    "The confusion matrix shows a good result as their f1 score shows - both the false positive and false negative are low. The false positive of LSTM is sligtly (their overall performance is the same as the statsitical test told) bigger than that in GRU possibly due to the dropout containing some information helpful to classify the business class. The misclassifications are possible the cases that involves football lottery, investment of sport company, etc."
   ]
  },
  {
   "cell_type": "markdown",
   "metadata": {},
   "source": [
    "<a id=\"ExceptionalWork\"></a>\n",
    "## 3. Exceptional Work"
   ]
  },
  {
   "cell_type": "markdown",
   "metadata": {},
   "source": [
    "### 3.1 Visualize and interpret the Embedding layer weights"
   ]
  },
  {
   "cell_type": "code",
   "execution_count": 25,
   "metadata": {
    "collapsed": true
   },
   "outputs": [],
   "source": [
    "#make the embedding_layer trainable\n",
    "embedding_layer = Embedding(len(word_index) + 1,\n",
    "                            EMBED_SIZE,\n",
    "                            weights=[embedding_matrix],\n",
    "                            input_length=MAX_ART_LEN,\n",
    "                            trainable=True)"
   ]
  },
  {
   "cell_type": "code",
   "execution_count": 27,
   "metadata": {
    "collapsed": true
   },
   "outputs": [],
   "source": [
    "#take one 20-80% split as an example to visualize and interpret \n",
    "cv_outerloop1 = ShuffleSplit(n_splits = 1, test_size  = 0.2, random_state = 42)\n",
    "for train_index, test_index in cv_outerloop1.split(X, y_ohe):\n",
    "    X_train, X_test = X[train_index], X[test_index]\n",
    "    y_train_ohe, y_test_ohe = y_ohe[train_index], y_ohe[test_index]\n",
    "\n",
    "gru = create_GRU(embedding_layer, size = 120, drop = 0.1, re_drop = 0.1)\n",
    "summary = gru.fit(X_train, y_train_ohe, epochs = 5, batch_size=64, verbose = 0)\n",
    "yhat = np.argmax(gru.predict(X_test),axis=1)"
   ]
  },
  {
   "cell_type": "code",
   "execution_count": 277,
   "metadata": {},
   "outputs": [
    {
     "name": "stdout",
     "output_type": "stream",
     "text": [
      "95% CI for the mean F1_score for LSTM is 0.996402877698 +- 0.0\n"
     ]
    }
   ],
   "source": [
    "score = np.array(f1(np.argmax(y_test_ohe,axis=1), yhat))\n",
    "print('95% CI for the mean F1_score for LSTM is', score.mean(), '+-', 2.26/10**0.5*score.std())"
   ]
  },
  {
   "cell_type": "code",
   "execution_count": 29,
   "metadata": {},
   "outputs": [
    {
     "data": {
      "text/plain": [
       "[array([[  1.48851017e-03,   1.88752997e-03,  -7.94560555e-03, ...,\n",
       "          -8.75849556e-03,  -9.53598123e-04,  -3.73998168e-03],\n",
       "        [ -1.29381850e-01,  -4.55489516e-01,   3.26991268e-02, ...,\n",
       "          -2.93246686e-01,  -4.61070128e-02,   5.63956678e-01],\n",
       "        [  5.34216940e-01,   9.93062615e-01,   5.57354271e-01, ...,\n",
       "          -2.43747354e-01,   7.23822951e-01,  -8.57802272e-01],\n",
       "        ..., \n",
       "        [ -1.93680599e-01,   1.10132828e-01,   3.70218426e-01, ...,\n",
       "           2.66317353e-02,  -6.47765815e-01,   1.65464133e-01],\n",
       "        [ -8.34210038e-01,   2.54645169e-01,   5.04710674e-01, ...,\n",
       "           3.23859930e-01,  -2.35291034e-01,   2.02677757e-01],\n",
       "        [ -1.03902698e+00,  -6.26226544e-01,   9.69607353e-01, ...,\n",
       "          -1.41595876e+00,   6.82670653e-01,  -2.93069363e-01]], dtype=float32)]"
      ]
     },
     "execution_count": 29,
     "metadata": {},
     "output_type": "execute_result"
    }
   ],
   "source": [
    "#visualize the embedding layer weights\n",
    "embedding_layer.get_weights()"
   ]
  },
  {
   "cell_type": "code",
   "execution_count": 287,
   "metadata": {
    "collapsed": true
   },
   "outputs": [],
   "source": [
    "#extract the weights from the list\n",
    "arr = embedding_layer.get_weights().pop()\n",
    "output_matrix = {}\n",
    "\n",
    "#Select top 2 weights from the matrix to represent each word in 2-D dimensions\n",
    "for word, i in word_index.items():\n",
    "    output_matrix[word] = (sorted(abs(arr[i]), reverse = True)[1], sorted(abs(arr[i]), reverse = True)[0])"
   ]
  },
  {
   "cell_type": "markdown",
   "metadata": {},
   "source": [
    "To better interpret the embedding weights, we manually select common words in both categories, and plot to the scatterplot with labels, which is more straighforward to observe any obvious patterns, especially the boundary between two categories"
   ]
  },
  {
   "cell_type": "code",
   "execution_count": 410,
   "metadata": {
    "scrolled": false
   },
   "outputs": [
    {
     "name": "stderr",
     "output_type": "stream",
     "text": [
      "/Users/wangsimin/anaconda/lib/python3.6/site-packages/matplotlib/text.py:2138: UserWarning: You have used the `textcoords` kwarg, but not the `xytext` kwarg.  This can lead to surprising results.\n",
      "  warnings.warn(\"You have used the `textcoords` kwarg, but not \"\n"
     ]
    },
    {
     "data": {
      "image/png": "[encoded data removed]",
      "text/plain": [
       "<matplotlib.figure.Figure at 0x1408f29b0>"
      ]
     },
     "metadata": {},
     "output_type": "display_data"
    }
   ],
   "source": [
    "x=[]\n",
    "y=[]\n",
    "n=['assists', 'jordan', 'fans', 'champion', 'basketball', 'nba', 'playoffs', 'espn',\n",
    "   'money', 'dollar', 'industry', 'stock', 'business', 'leader', 'wins', 'lose', 'buy', 'sell',\n",
    "   'revenue', 'opponents', 'company', 'bank', 'finals', 'fouls', 'injuries','turnovers','nike']\n",
    "\n",
    "#for key in output_matrix.keys():\n",
    "for key in n:\n",
    "    x.append(output_matrix.get(key)[0])\n",
    "    y.append(output_matrix.get(key)[1])\n",
    "\n",
    "fig, ax = plt.subplots(figsize = (10, 8))\n",
    "ax.scatter(x, y)\n",
    "\n",
    "for i, txt in enumerate(n):\n",
    "    ax.annotate(txt, (x[i],y[i]), textcoords='offset points')\n",
    "\n",
    "bbox_props = dict(boxstyle=\"square,pad=0.3\", fc=\"cyan\", lw=2)\n",
    "t = ax.text(1.4, 1.6, \"Sports\", ha=\"center\", va=\"center\", \n",
    "            size=20,\n",
    "            bbox=bbox_props)\n",
    "\n",
    "bbox_props1 = dict(boxstyle=\"square,pad=0.3\", fc=\"gray\", lw=2)\n",
    "v = ax.text(2.1, 2.5, \"Business\", ha=\"center\", va=\"center\", \n",
    "            size=20,\n",
    "            bbox=bbox_props1)\n",
    "\n",
    "bbox_props2 = dict(boxstyle=\"darrow, pad=0.02\", fc=\"w\", lw=2)\n",
    "v = ax.text(1.77, 2.2, \"Boundary\", ha=\"center\", va=\"center\", \n",
    "            size=40, rotation = -45,\n",
    "            bbox=bbox_props2)"
   ]
  },
  {
   "cell_type": "markdown",
   "metadata": {},
   "source": [
    "From the figure above, we can tell that an explicit boundary exists, which somewhat explains why our prediction result is pretty well. For the sports field, we select most of words associated with NBA closely, such as turnovers, assists, playoffs. The Euclidean distance among those words are quite short. On the other hand, business-relate words, including bank, money, sell, etc., are relatively easy to tell apart from sports field according to the above figure. However, some possible outliers appear near the boundary, which should have some strong indication of either side, such as champion and finals. We expect them to be classified to the sports, but they tend to be neutral. Anyway, it's an overall success plotting in 2-D dimensions since we only pick top 2 absolute values from 100 weights."
   ]
  },
  {
   "cell_type": "markdown",
   "metadata": {},
   "source": [
    "In order to evaluate the general performance of the embedding layer not just some specific words, we continue to do some further analysis with the help of a clustering algorithm, KMeans. All the 25423 words have been divided into two clusters based on the Euclidean distance of embedding weights. Due to the fact that they don't have the labels yet, we could manually inspect whether the produced clusters make sense or not."
   ]
  },
  {
   "cell_type": "code",
   "execution_count": 426,
   "metadata": {
    "collapsed": true
   },
   "outputs": [],
   "source": [
    "from sklearn.cluster import KMeans\n",
    "\n",
    "#K-Means clustering\n",
    "kmeans = KMeans(n_clusters=2, random_state=0).fit(arr[1:])"
   ]
  },
  {
   "cell_type": "code",
   "execution_count": 456,
   "metadata": {},
   "outputs": [
    {
     "data": {
      "text/html": [
       "<div>\n",
       "<style>\n",
       "    .dataframe thead tr:only-child th {\n",
       "        text-align: right;\n",
       "    }\n",
       "\n",
       "    .dataframe thead th {\n",
       "        text-align: left;\n",
       "    }\n",
       "\n",
       "    .dataframe tbody tr th {\n",
       "        vertical-align: top;\n",
       "    }\n",
       "</style>\n",
       "<table border=\"1\" class=\"dataframe\">\n",
       "  <thead>\n",
       "    <tr style=\"text-align: right;\">\n",
       "      <th></th>\n",
       "      <th>0</th>\n",
       "      <th>1</th>\n",
       "      <th>2</th>\n",
       "      <th>3</th>\n",
       "      <th>4</th>\n",
       "      <th>5</th>\n",
       "      <th>6</th>\n",
       "      <th>7</th>\n",
       "      <th>8</th>\n",
       "      <th>9</th>\n",
       "      <th>...</th>\n",
       "      <th>92</th>\n",
       "      <th>93</th>\n",
       "      <th>94</th>\n",
       "      <th>95</th>\n",
       "      <th>96</th>\n",
       "      <th>97</th>\n",
       "      <th>98</th>\n",
       "      <th>99</th>\n",
       "      <th>cluster</th>\n",
       "      <th>word</th>\n",
       "    </tr>\n",
       "  </thead>\n",
       "  <tbody>\n",
       "    <tr>\n",
       "      <th>0</th>\n",
       "      <td>-0.129382</td>\n",
       "      <td>-0.455490</td>\n",
       "      <td>0.032699</td>\n",
       "      <td>-0.990841</td>\n",
       "      <td>-0.209962</td>\n",
       "      <td>-0.954827</td>\n",
       "      <td>-0.237487</td>\n",
       "      <td>0.484799</td>\n",
       "      <td>0.193015</td>\n",
       "      <td>0.478940</td>\n",
       "      <td>...</td>\n",
       "      <td>0.293020</td>\n",
       "      <td>0.136987</td>\n",
       "      <td>-0.705674</td>\n",
       "      <td>0.682339</td>\n",
       "      <td>-0.082912</td>\n",
       "      <td>-0.293247</td>\n",
       "      <td>-0.046107</td>\n",
       "      <td>0.563957</td>\n",
       "      <td>0</td>\n",
       "      <td>said</td>\n",
       "    </tr>\n",
       "    <tr>\n",
       "      <th>1</th>\n",
       "      <td>0.534217</td>\n",
       "      <td>0.993063</td>\n",
       "      <td>0.557354</td>\n",
       "      <td>0.137264</td>\n",
       "      <td>0.010335</td>\n",
       "      <td>-1.004129</td>\n",
       "      <td>0.392430</td>\n",
       "      <td>0.301730</td>\n",
       "      <td>0.031882</td>\n",
       "      <td>0.499912</td>\n",
       "      <td>...</td>\n",
       "      <td>-0.014363</td>\n",
       "      <td>-0.262167</td>\n",
       "      <td>-2.110444</td>\n",
       "      <td>0.421383</td>\n",
       "      <td>-0.271999</td>\n",
       "      <td>-0.243747</td>\n",
       "      <td>0.723823</td>\n",
       "      <td>-0.857802</td>\n",
       "      <td>0</td>\n",
       "      <td>percent</td>\n",
       "    </tr>\n",
       "    <tr>\n",
       "      <th>2</th>\n",
       "      <td>-0.969962</td>\n",
       "      <td>0.544759</td>\n",
       "      <td>0.825140</td>\n",
       "      <td>0.075412</td>\n",
       "      <td>0.150572</td>\n",
       "      <td>-0.442973</td>\n",
       "      <td>-0.941110</td>\n",
       "      <td>0.534278</td>\n",
       "      <td>-0.530589</td>\n",
       "      <td>1.241648</td>\n",
       "      <td>...</td>\n",
       "      <td>-0.627446</td>\n",
       "      <td>-0.477249</td>\n",
       "      <td>-0.666200</td>\n",
       "      <td>0.693144</td>\n",
       "      <td>0.648425</td>\n",
       "      <td>0.284592</td>\n",
       "      <td>-0.018369</td>\n",
       "      <td>0.248380</td>\n",
       "      <td>0</td>\n",
       "      <td>pakistan</td>\n",
       "    </tr>\n",
       "    <tr>\n",
       "      <th>3</th>\n",
       "      <td>0.440817</td>\n",
       "      <td>0.479826</td>\n",
       "      <td>0.361195</td>\n",
       "      <td>-0.528031</td>\n",
       "      <td>0.205644</td>\n",
       "      <td>-0.459665</td>\n",
       "      <td>0.614833</td>\n",
       "      <td>0.730416</td>\n",
       "      <td>-0.410607</td>\n",
       "      <td>0.151560</td>\n",
       "      <td>...</td>\n",
       "      <td>-0.425150</td>\n",
       "      <td>-0.077338</td>\n",
       "      <td>-0.855268</td>\n",
       "      <td>0.282422</td>\n",
       "      <td>0.084745</td>\n",
       "      <td>0.380585</td>\n",
       "      <td>0.486759</td>\n",
       "      <td>-0.659764</td>\n",
       "      <td>0</td>\n",
       "      <td>year</td>\n",
       "    </tr>\n",
       "    <tr>\n",
       "      <th>4</th>\n",
       "      <td>-0.030807</td>\n",
       "      <td>0.032411</td>\n",
       "      <td>0.331600</td>\n",
       "      <td>0.157038</td>\n",
       "      <td>0.106465</td>\n",
       "      <td>0.098764</td>\n",
       "      <td>0.794199</td>\n",
       "      <td>0.219525</td>\n",
       "      <td>-0.582132</td>\n",
       "      <td>-0.066295</td>\n",
       "      <td>...</td>\n",
       "      <td>-0.189120</td>\n",
       "      <td>0.328762</td>\n",
       "      <td>-0.753963</td>\n",
       "      <td>-0.079101</td>\n",
       "      <td>-0.193042</td>\n",
       "      <td>0.066404</td>\n",
       "      <td>0.281800</td>\n",
       "      <td>-0.301972</td>\n",
       "      <td>0</td>\n",
       "      <td>first</td>\n",
       "    </tr>\n",
       "  </tbody>\n",
       "</table>\n",
       "<p>5 rows × 102 columns</p>\n",
       "</div>"
      ],
      "text/plain": [
       "          0         1         2         3         4         5         6  \\\n",
       "0 -0.129382 -0.455490  0.032699 -0.990841 -0.209962 -0.954827 -0.237487   \n",
       "1  0.534217  0.993063  0.557354  0.137264  0.010335 -1.004129  0.392430   \n",
       "2 -0.969962  0.544759  0.825140  0.075412  0.150572 -0.442973 -0.941110   \n",
       "3  0.440817  0.479826  0.361195 -0.528031  0.205644 -0.459665  0.614833   \n",
       "4 -0.030807  0.032411  0.331600  0.157038  0.106465  0.098764  0.794199   \n",
       "\n",
       "          7         8         9    ...           92        93        94  \\\n",
       "0  0.484799  0.193015  0.478940    ...     0.293020  0.136987 -0.705674   \n",
       "1  0.301730  0.031882  0.499912    ...    -0.014363 -0.262167 -2.110444   \n",
       "2  0.534278 -0.530589  1.241648    ...    -0.627446 -0.477249 -0.666200   \n",
       "3  0.730416 -0.410607  0.151560    ...    -0.425150 -0.077338 -0.855268   \n",
       "4  0.219525 -0.582132 -0.066295    ...    -0.189120  0.328762 -0.753963   \n",
       "\n",
       "         95        96        97        98        99  cluster      word  \n",
       "0  0.682339 -0.082912 -0.293247 -0.046107  0.563957        0      said  \n",
       "1  0.421383 -0.271999 -0.243747  0.723823 -0.857802        0   percent  \n",
       "2  0.693144  0.648425  0.284592 -0.018369  0.248380        0  pakistan  \n",
       "3  0.282422  0.084745  0.380585  0.486759 -0.659764        0      year  \n",
       "4 -0.079101 -0.193042  0.066404  0.281800 -0.301972        0     first  \n",
       "\n",
       "[5 rows x 102 columns]"
      ]
     },
     "execution_count": 456,
     "metadata": {},
     "output_type": "execute_result"
    }
   ],
   "source": [
    "df_word = pd.DataFrame(arr[1:])\n",
    "df_word['cluster'] = kmeans.labels_\n",
    "df_word['word'] = word_index.keys()\n",
    "df_word.head()"
   ]
  },
  {
   "cell_type": "code",
   "execution_count": 455,
   "metadata": {},
   "outputs": [
    {
     "data": {
      "text/html": [
       "<div>\n",
       "<style>\n",
       "    .dataframe thead tr:only-child th {\n",
       "        text-align: right;\n",
       "    }\n",
       "\n",
       "    .dataframe thead th {\n",
       "        text-align: left;\n",
       "    }\n",
       "\n",
       "    .dataframe tbody tr th {\n",
       "        vertical-align: top;\n",
       "    }\n",
       "</style>\n",
       "<table border=\"1\" class=\"dataframe\">\n",
       "  <thead>\n",
       "    <tr style=\"text-align: right;\">\n",
       "      <th></th>\n",
       "      <th>cluster</th>\n",
       "      <th>counts</th>\n",
       "    </tr>\n",
       "  </thead>\n",
       "  <tbody>\n",
       "    <tr>\n",
       "      <th>0</th>\n",
       "      <td>0</td>\n",
       "      <td>10250</td>\n",
       "    </tr>\n",
       "    <tr>\n",
       "      <th>1</th>\n",
       "      <td>1</td>\n",
       "      <td>15173</td>\n",
       "    </tr>\n",
       "  </tbody>\n",
       "</table>\n",
       "</div>"
      ],
      "text/plain": [
       "   cluster  counts\n",
       "0        0   10250\n",
       "1        1   15173"
      ]
     },
     "execution_count": 455,
     "metadata": {},
     "output_type": "execute_result"
    }
   ],
   "source": [
    "df_word.groupby(['cluster']).size().reset_index(name='counts')"
   ]
  },
  {
   "cell_type": "markdown",
   "metadata": {},
   "source": [
    "From the result, two clusters are generated, cluster 0 and 1. And there isn't a great imbalance between two clusters."
   ]
  },
  {
   "cell_type": "code",
   "execution_count": 452,
   "metadata": {},
   "outputs": [
    {
     "data": {
      "text/plain": [
       "array(['said', 'percent', 'pakistan', 'year', 'first', 'strong', 'world',\n",
       "       'oil', 'two', 'also', 'last', 'new', 'one', 'england', 'would',\n",
       "       'us', 'three', 'million', 'cricket', 'test', 'prices', 'team',\n",
       "       'day', 'match', 'india', 'second', 'time', 'market', 'billion',\n",
       "       'week', 'four', 'crude', 'international', 'since', 'made', 'could',\n",
       "       'captain', 'country', 'month', 'government', 'bank', 'china',\n",
       "       'global', 'years', 'friday', 'added', 'minister', 'runs', 'monday',\n",
       "       'five', 'final', 'back', 'series', 'u', 'south', 'ball', 'top',\n",
       "       'dollar', 'australia', 'six', 'markets', 'thursday', 'told',\n",
       "       'tuesday', 'growth', 'wickets', 'wednesday', 'west', 'economic',\n",
       "       'united', 'per', 'next', 'trade', 'sri', 'play', 'well', 'game',\n",
       "       'win', 'left', 'economy', 'high', 'set', 'players', 'third',\n",
       "       'lanka', 'group', 'fell', 'islamabad', 'old', 'balls', 'side',\n",
       "       'run', 'innings', 'energy', 'production', 'took', 'ali', 'earlier',\n",
       "       'opec', 'data', 'zealand', 'may', 'rate', 'board', 'tournament',\n",
       "       'barrel', 'rose', 'early', 'expected', 'take', 'cup', 'twenty',\n",
       "       'khan', 'demand', 'gold', 'around', 'countries', 'asia', 'record',\n",
       "       'africa', 'end', 'however', 'long', 'june', 'tax', 'still',\n",
       "       'according', 'months', 'start', 'make', 'investors', 'meeting',\n",
       "       'national', 'yen', 'points', 'including', 'low', 'number', 'home',\n",
       "       'karachi', 'power', 'london', 'output', 'people', 'best', 'hit',\n",
       "       'sunday', 'indies', 'price', 'get', 'major', 'cents', 'investment',\n",
       "       'played', 'former', 'due', 'half', 'good', 'saturday', 'lost',\n",
       "       'chief', 'interest', 'news', 'much', 'another', 'report',\n",
       "       'president', 'index', 'victory', 'like', 'cut', 'seven', 'later',\n",
       "       'iran', 'saudi', 'came', 'following', 'financial', 'state', 'euro',\n",
       "       'scored', 'sector', 'states', 'chinese', 'increase', 'foreign',\n",
       "       'policy', 'level', 'federal', 'many', 'eight', 'opening', 'higher',\n",
       "       'open', 'bangladesh', 'matches', 'close', 'league', 'supply',\n",
       "       'trading'], dtype=object)"
      ]
     },
     "execution_count": 452,
     "metadata": {},
     "output_type": "execute_result"
    }
   ],
   "source": [
    "df_word[df_word.cluster == 0].word.values[:200]"
   ]
  },
  {
   "cell_type": "markdown",
   "metadata": {},
   "source": [
    "From the top 200 words of cluster 0, we could observe some business-sensitive words, such as government, bank, minister, growth, federal, policy, economy, etc.. So cluster 0 should be labeled as indicators of Business."
   ]
  },
  {
   "cell_type": "code",
   "execution_count": 453,
   "metadata": {},
   "outputs": [
    {
     "data": {
      "text/plain": [
       "array(['rs', 'wicket', 'br', 'overs', 'mohammad', 'th', 'amir',\n",
       "       'strongthe', 'bowler', 'brent', 'spinner', 'fours', 'batsman',\n",
       "       'pcb', 'toss', 'trump', 'sixes', 'afridi', 'lahore', 'bowled',\n",
       "       'batsmen', 'bowlers', 'dar', 'unbeaten', 'misbah', 'messi', 'wti',\n",
       "       'shahid', 'odi', 'nawaz', 'bairstow', 'glut', 'ul', 'haq', 'kohli',\n",
       "       'ronaldo', 'hales', 'singh', 'stokes', 'rounder', 'skipper', 'fbr',\n",
       "       'sharif', 'ishaq', 'riaz', 'wahab', 'sindh', 'iqbal', 'hafeez',\n",
       "       'younis', 'internationals', 'wk', 'azhar', 'woakes', 'peshawar',\n",
       "       'sbp', 'djokovic', 'kolkata', 'quetta', 'mathews', 'williamson',\n",
       "       'zalmi', 'cpec', 'yasir', 'dhoni', 'gladiators', 'strategist',\n",
       "       'shoaib', 'sarfraz', 'oversupply', 'brexit', 'malik', 'xi',\n",
       "       'wicketkeeper', 'paceman', 'bcci', 'litre', 'alastair', 'sohail',\n",
       "       'villiers', 'sharapova', 'punjab', 'darren', 'psl', 'com', 'asif',\n",
       "       'bravo', 'pacer', 'modi', 'spinners', 'hasan', 'sammy', 'sami',\n",
       "       'salman', 'yellen', 'amla', 'moeen', 'stumps', 'akmal', 'herath',\n",
       "       'trafford', 'gayle', 'app', 'dhaka', 'copa', 'vince', 'mccullum',\n",
       "       'shane', 'brathwaite', 'federer', 'khawaja', 'umar', 'imran',\n",
       "       'cricketer', 'jonny', 'chandimal', 'perera', 'khalid', 'cricketers',\n",
       "       'ashwin', 'midfielder', 'wasim', 'marsh', 'lbw', 'eden', 'virat',\n",
       "       'andre', 'nadal', 'shehzad', 'msci', 'kock', 'openers', 'butt',\n",
       "       'lng', 'usman', 'geo', 'cng', 'gwadar', 'irfan', 'waqar', 'lyon',\n",
       "       'batted', 'shahzad', 'dharamsala', 'shale', 'sharma', 'finch',\n",
       "       'rigs', 'inc', 'nathan', 'angelo', 'blatter', 'hander', 'rohit',\n",
       "       'qalandars', 'somerset', 'adil', 'keeper', 'rashid', 'seamer',\n",
       "       'ipl', 'ogra', 'fy', 'anwar', 'pia', 'nd', 'www', 'rabada',\n",
       "       'guptill', 'kane', 'scorer', 'sharjeel', 'ab', 'goalkeeper', 'oman',\n",
       "       'masood', 'broadest', 'rahman', 'dinesh', 'shakib', 'sharjah',\n",
       "       'buttler', 'waived', 'hussain', 'dhawan', 'cristiano', 'mendis',\n",
       "       'tamim', 'crease', 'odis', 'nepra', 'finn', 'mourinho', 'rupee',\n",
       "       'umpire', 'header', 'marseille', 'novak', 'lionel', 'edgbaston'], dtype=object)"
      ]
     },
     "execution_count": 453,
     "metadata": {},
     "output_type": "execute_result"
    }
   ],
   "source": [
    "df_word[df_word.cluster == 1].word.values[:200]"
   ]
  },
  {
   "cell_type": "markdown",
   "metadata": {},
   "source": [
    "For the cluster 1, many sports-related words appear inside the cluster, especially the soccer field, such as lionel messi, cristiano ronaldo, goalkeeper, header, midfielder. A famous tennis player showed up as well, novak djokovic. Therefore, we have strong confidence that cluster 1 could be labeled as indicators of Sports."
   ]
  },
  {
   "cell_type": "markdown",
   "metadata": {},
   "source": [
    "### 3.2 comparison between different different accuracy on 20 news data"
   ]
  },
  {
   "cell_type": "markdown",
   "metadata": {},
   "source": [
    "In original posting by the Keras blog, they get about 95% accuracy within 2 epoches. However, in the CNN model we learn in class, the accuracy approach 83% after 10 epoches. The question arises, why there is a difference?\n",
    "\n",
    "We compare the data used as well as the models and find that for most part of the models, they are pretty the same. Only several possible difference exist, which may lead to the difference. \n",
    "\n",
    "First, even though we both use 20 groups news data, we get it from diffferent ways. One of them is from sklearn.datasets and the other from local dataset. \n",
    "\n",
    "Second, in the class model, Dr.Larson uses all text data while in the keras model they delete headers by setting header = NONE.\n",
    "\n",
    "Third, in the class model, Dr.Larson uses stratify split to split data for cross validation while in the keras model, they use shuffle split.\n",
    "\n",
    "Lastly, in the class model, Dr.Larson set kernel_initializer for DENSE layer while in the keras model they leave it as default.\n",
    "\n",
    "To find the reason, the control variable method is adopted. We rerun the keras model several times and only keep one difference in the model  each time. The second and fourth difference do not seem to influence accuracy much. We believe that the data itself and the way we split it are the reason why we can not get 95% accuracy as keras model does."
   ]
  },
  {
   "cell_type": "markdown",
   "metadata": {},
   "source": [
    "<a id=\"References\"></a>\n",
    "## References"
   ]
  },
  {
   "cell_type": "markdown",
   "metadata": {},
   "source": [
    "[1] News Articles Homepag. URL: https://www.kaggle.com/asad1m9a9h6mood/news-articles"
   ]
  }
 ],
 "metadata": {
  "kernelspec": {
   "display_name": "Python 3",
   "language": "python",
   "name": "python3"
  },
  "language_info": {
   "codemirror_mode": {
    "name": "ipython",
    "version": 3
   },
   "file_extension": ".py",
   "mimetype": "text/x-python",
   "name": "python",
   "nbconvert_exporter": "python",
   "pygments_lexer": "ipython3",
   "version": "3.6.1"
  }
 },
 "nbformat": 4,
 "nbformat_minor": 2
}
